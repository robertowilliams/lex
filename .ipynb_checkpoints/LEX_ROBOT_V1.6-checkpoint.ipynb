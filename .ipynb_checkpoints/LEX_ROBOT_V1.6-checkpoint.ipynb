{
 "cells": [
  {
   "cell_type": "markdown",
   "metadata": {},
   "source": [
    "# **LEX ROBOT**\n",
    "## VERSION: 1.6"
   ]
  },
  {
   "cell_type": "markdown",
   "metadata": {},
   "source": [
    "## NOTES\n",
    "\n",
    "### SERVER DETAILS\n",
    "\n",
    "SMTP: https://www.afternerd.com/blog/how-to-send-an-email-using-python-and-smtplib/\n",
    "\n",
    "IMAP: https://stackoverflow.com/questions/348392/receive-and-send-emails-in-python\n",
    "\n",
    "POP: https://stackoverflow.com/questions/8669202/get-emails-with-python-and-poplib\n",
    "\n",
    "Gmail: https://www.codediesel.com/api/how-to-access-gmail-using-python/\n",
    "\n",
    "Full extractor: https://stackoverflow.com/questions/31305754/accessing-only-the-body-of-an-email-using-python\n",
    "\n",
    "POP: http://intelligentonlinetools.com/blog/2016/09/13/retrieving-emails-from-pop3-server-using-python-script/\n"
   ]
  },
  {
   "cell_type": "markdown",
   "metadata": {},
   "source": [
    "## 1. IMPORTING LIBRARY\n"
   ]
  },
  {
   "cell_type": "code",
   "execution_count": 1,
   "metadata": {},
   "outputs": [],
   "source": [
    "import poplib\n",
    "from poplib  import POP3\n",
    "import re\n",
    "import os\n",
    "import pandas as pd\n",
    "\n",
    "from sklearn.feature_extraction.text import TfidfVectorizer, CountVectorizer\n",
    "from sklearn.model_selection import train_test_split\n",
    "from sklearn.naive_bayes import MultinomialNB\n",
    "from sklearn import svm\n",
    "import csv"
   ]
  },
  {
   "cell_type": "markdown",
   "metadata": {},
   "source": [
    "## 2 DEFINING ACCOUNT DETAILS"
   ]
  },
  {
   "cell_type": "code",
   "execution_count": 2,
   "metadata": {},
   "outputs": [],
   "source": [
    "# User details\n",
    "user = 'lex@monidra.com.br'\n",
    "pw = '123456'\n",
    "# POP details\n",
    "pop_address = 'pop.secureserver.net'\n",
    "pop_port = '110'\n",
    "# SMTP details\n",
    "smtp_server = 'smtpout.secureserver.net'\n",
    "smtp_port = '25'"
   ]
  },
  {
   "cell_type": "markdown",
   "metadata": {},
   "source": [
    "## 4 DF Cleanup Algorithms"
   ]
  },
  {
   "cell_type": "code",
   "execution_count": 3,
   "metadata": {},
   "outputs": [],
   "source": [
    "def dfCleanup():\n",
    "    df['From'] = ''\n",
    "    df['Subject'] = ''\n",
    "    df['Summary'] = ''\n",
    "    return(df)\n",
    "\n",
    "def df1stRowCleanup():\n",
    "    df.loc[0,'From'] = ''\n",
    "    df.loc[0,'Subject'] = ''\n",
    "    df.loc[0,'Summary'] = ''\n",
    "    return(df)"
   ]
  },
  {
   "cell_type": "code",
   "execution_count": 53,
   "metadata": {},
   "outputs": [
    {
     "data": {
      "text/plain": [
       "(b'+OK ', [b'1 4922', b'2 3760'], 16)"
      ]
     },
     "execution_count": 53,
     "metadata": {},
     "output_type": "execute_result"
    }
   ],
   "source": [
    "# User details\n",
    "user = 'lex@monidra.com.br'\n",
    "pw = '123456'\n",
    "# POP details\n",
    "pop_address = 'pop.secureserver.net'\n",
    "pop_port = '110'\n",
    "# SMTP details\n",
    "smtp_server = 'smtpout.secureserver.net'\n",
    "smtp_port = '25'\n",
    "# Login POP Server\n",
    "pop_server = poplib.POP3(pop_address, port=pop_port)\n",
    "pop_server.user(user)\n",
    "pop_server.pass_(pw)\n",
    "pop_server.list()"
   ]
  },
  {
   "cell_type": "markdown",
   "metadata": {},
   "source": [
    "# 5 Retriving Message"
   ]
  },
  {
   "cell_type": "code",
   "execution_count": 5,
   "metadata": {},
   "outputs": [],
   "source": [
    "col=['From', 'Subject', 'Summary']\n",
    "row=range(0,4)\n",
    "df_buffer = pd.DataFrame(columns=col, index=row)"
   ]
  },
  {
   "cell_type": "code",
   "execution_count": 16,
   "metadata": {},
   "outputs": [],
   "source": [
    "def getMessage(pop_address=pop_address, pop_port=pop_port, user=user, pw=pw):\n",
    "    \n",
    "    # RegEx Patterns\n",
    "    pat_sub= \"Subject: (?P<group_subject>Lex)\"\n",
    "    pat_sender = \"From: .*<(?P<group_sender>.+)>\\'b\\'Date\"\n",
    "    pat_summary = \"\\$@\\$(?P<group_summary>.*)\\$\\$\\$\"\n",
    "    \n",
    "    # Pop Server\n",
    "    pop_server = poplib.POP3(pop_address)\n",
    "    pop_server.user(user)\n",
    "    pop_server.pass_(pw)\n",
    "\n",
    "    # Cleaning the overload mailbox.\n",
    "    numMessages = len(pop_server.list()[1])\n",
    "    \n",
    "    if (numMessages > 5):\n",
    "        cleanup()\n",
    "        \n",
    "    # Extract the email message.\n",
    "    for i in range(numMessages) :\n",
    "        (server_msg, body, octets) = pop_server.retr(i+1)\n",
    "        # Tranformation of list to string\n",
    "        string = ''.join(str(e) for e in body)\n",
    "        # Using the RegEx pattern to extract subject, sender(from) and summary.\n",
    "        # Subject\n",
    "        Sub_string = re.search(pat_sub, string)\n",
    "        RetSub = Sub_string.group('group_subject')\n",
    "        # Sender\n",
    "        Sen_string = re.search(pat_sender, string)\n",
    "        RetSen = Sen_string.group('group_sender')\n",
    "        # Summary\n",
    "        Sum_string = re.search(pat_summary, string)\n",
    "        RetSum = Sum_string.group('group_summary')\n",
    "        \n",
    "        # Concatenate the tuples and to string\n",
    "        index = 0\n",
    "        df_buffer.From.apply(str)\n",
    "        df_buffer.Subject.apply(str)\n",
    "        df_buffer.Summary.apply(str)\n",
    "        \n",
    "        df_buffer.loc[index,'From'] = ''.join(RetSen[0])\n",
    "        df_buffer.loc[index,'Subject'] = ''.join(RetSub[0])\n",
    "        df_buffer.loc[index,'Summary'] = ''.join(RetSum[0])\n",
    "\n",
    "        return(df_buffer)\n",
    "        \n",
    "        #return(RetSub, RetSen, RetSum)\n",
    "\n",
    "# Ref.: \n",
    "# http://intelligentonlinetools.com/blog/2016/09/13/retrieving-emails-from-pop3-server-using-python-script/\n",
    "# https://answers.splunk.com/answers/561067/regex-to-return-text-over-multiple-lines.html\n",
    "# https://stackoverflow.com/questions/5618878/how-to-convert-list-to-string"
   ]
  },
  {
   "cell_type": "code",
   "execution_count": 34,
   "metadata": {},
   "outputs": [
    {
     "data": {
      "text/plain": [
       "b'+OK Logged in. '"
      ]
     },
     "execution_count": 34,
     "metadata": {},
     "output_type": "execute_result"
    }
   ],
   "source": [
    "    # RegEx Patterns\n",
    "pat_sub= \"Subject: (?P<group_subject>Lex)\"\n",
    "pat_sender = \"From: .*<(?P<group_sender>.+)>\\'b\\'Date\"\n",
    "pat_summary = \"\\$@\\$(?P<group_summary>.*)\\$\\$\\$\"\n",
    "    \n",
    "    # Pop Server\n",
    "pop_server = poplib.POP3(pop_address)\n",
    "pop_server.user(user)\n",
    "pop_server.pass_(pw)"
   ]
  },
  {
   "cell_type": "code",
   "execution_count": 40,
   "metadata": {},
   "outputs": [
    {
     "data": {
      "text/plain": [
       "2"
      ]
     },
     "execution_count": 40,
     "metadata": {},
     "output_type": "execute_result"
    }
   ],
   "source": [
    "len(pop_server.list()[1])"
   ]
  },
  {
   "cell_type": "code",
   "execution_count": 46,
   "metadata": {},
   "outputs": [
    {
     "data": {
      "text/plain": [
       "b'1 4922'"
      ]
     },
     "execution_count": 46,
     "metadata": {},
     "output_type": "execute_result"
    }
   ],
   "source": [
    "number = pop_server.list()[1][0]\n",
    "pop_server.list()[1][0]"
   ]
  },
  {
   "cell_type": "code",
   "execution_count": null,
   "metadata": {},
   "outputs": [],
   "source": [
    ".retr(i+1)[1]"
   ]
  },
  {
   "cell_type": "code",
   "execution_count": 54,
   "metadata": {},
   "outputs": [
    {
     "data": {
      "text/plain": [
       "[b'Received: (qmail 44371 invoked by uid 30297); 23 Oct 2018 16:47:20 -0000',\n",
       " b'Received: from unknown (HELO p3plibsmtp01-15.prod.phx3.secureserver.net) ([72.167.238.231])',\n",
       " b'          (envelope-sender <robertobatista12@gmail.com>)',\n",
       " b'          by p3plsmtp26-02-26.prod.phx3.secureserver.net (qmail-1.03) with SMTP',\n",
       " b'          for <lex@monidra.com.br>; 23 Oct 2018 16:47:20 -0000',\n",
       " b'Received: from mail-vs1-f54.google.com ([209.85.217.54])',\n",
       " b'\\tby bizsmtp with ESMTP',\n",
       " b'\\tid EzpvgUGCyCUgUEzpwgq7oO; Tue, 23 Oct 2018 09:47:20 -0700',\n",
       " b'Received: by mail-vs1-f54.google.com with SMTP id a202so1292279vsd.5',\n",
       " b'        for <lex@monidra.com.br>; Tue, 23 Oct 2018 09:47:20 -0700 (PDT)',\n",
       " b'DKIM-Signature: v=1; a=rsa-sha256; c=relaxed/relaxed;',\n",
       " b'        d=gmail.com; s=20161025;',\n",
       " b'        h=date:from:to:message-id:subject:mime-version;',\n",
       " b'        bh=V80i3aAE3vVRSdmzLK/5/0PqONs1eKiYq2MN7MJen2c=;',\n",
       " b'        b=YOBvyS/nimW150z2evfJUnXUkRGVOjv/ea6ALjFsR/UZ/JFN7XdpGCHxrMT31LYKf+',\n",
       " b'         QykICOAs6FH9/OVlhpICR0Ct01anQul4rlv1Khq7gsSFw8cipiTAFEwFrrhGO4C2AnRh',\n",
       " b'         HreMX5HpBB0TFDI3v9Guhp4aPJJhOxIfIpL2Fv7XHXr6Y+lm63qAcAktJlkkU/DOFTK7',\n",
       " b'         XOIzHtv1GiZtQJEm9dRWcLn87SXPVgG4KCTr+UEcLY/wFLv3pcs5Q8zDIHwI/hL9hs5Z',\n",
       " b'         pd0XnsUa9FBVPcSNPBcxWZ9s3+/7DQz/cqs6J5Tgf4GzDZrzmZ+4H5IxHV69vFR9Ig45',\n",
       " b'         ms5w==',\n",
       " b'X-Google-DKIM-Signature: v=1; a=rsa-sha256; c=relaxed/relaxed;',\n",
       " b'        d=1e100.net; s=20161025;',\n",
       " b'        h=x-gm-message-state:date:from:to:message-id:subject:mime-version;',\n",
       " b'        bh=V80i3aAE3vVRSdmzLK/5/0PqONs1eKiYq2MN7MJen2c=;',\n",
       " b'        b=BYEeEoABGq06XvLidl5EfSt9CPDxDYxofatMhEq+HV2n9qNjmEsb73PnQdTkxN5OTR',\n",
       " b'         Qwaf9kQZk1e1upW/RJdYx1zq2/jQw+pggIifserBoVfGRJ8VulFCJHV2sWgK+husVZ0E',\n",
       " b'         Dsma1S/mYgIlIMAEYzew1fkaXog+zK7iBC7Q5hSKdh1EjOM0Y0sRhiPM7wLZYaLSrVLP',\n",
       " b'         69bbMpVA6fLwSbAarhdQxfeoAOfnA1aPprUPmy5E+TKtaHv/BbjiwsdcaFmRh0CnrA3l',\n",
       " b'         7khilYnBSyG3SmhunP10+6YWTY+vgzVe1d5eCEKTsInqTKzD7zwYWR9gQToiH1MZZeIQ',\n",
       " b'         5vSQ==',\n",
       " b'X-Gm-Message-State: ABuFfoijqCtMGwLQJ6qHA7chdYTudW8BKkhc6YJpMv2hFWbCpKJaOw3i',\n",
       " b'\\tqXgDURW5LWb0uz43Oqv6gFGIx06u',\n",
       " b'X-Google-Smtp-Source: ACcGV61Rv849Gs1Twk548djze1YjOPUO2jJGgRyWEU6bPRW4EnlMfdmtv1hOhDs0KlX10zUSSajd0Q==',\n",
       " b'X-Received: by 2002:a67:464d:: with SMTP id t74mr21704823vsa.68.1540313239152;',\n",
       " b'        Tue, 23 Oct 2018 09:47:19 -0700 (PDT)',\n",
       " b'Return-Path: <robertobatista12@gmail.com>',\n",
       " b'Received: from [10.201.81.79] ([71.44.212.72])',\n",
       " b'        by smtp.gmail.com with ESMTPSA id j196sm351554vke.34.2018.10.23.09.47.16',\n",
       " b'        for <lex@monidra.com.br>',\n",
       " b'        (version=TLS1_2 cipher=ECDHE-RSA-AES128-GCM-SHA256 bits=128/128);',\n",
       " b'        Tue, 23 Oct 2018 09:47:17 -0700 (PDT)',\n",
       " b'Date: Tue, 23 Oct 2018 12:47:11 -0400',\n",
       " b'From: Roberto Batista <robertobatista12@gmail.com>',\n",
       " b'To: lex@monidra.com.br',\n",
       " b'Message-ID: <e2ded2f0-5b69-4456-bb80-4aa5bc39f789@Spark>',\n",
       " b'Subject: Lex',\n",
       " b'X-Readdle-Message-ID: e2ded2f0-5b69-4456-bb80-4aa5bc39f789@Spark',\n",
       " b'MIME-Version: 1.0',\n",
       " b'Content-Type: multipart/alternative; boundary=\"5bcf5094_6b8b4567_3d0e\"',\n",
       " b'X-CMAE-Envelope: MS4wfHpFMk+VCtDByApPdOzHv/icFGo7bX5KnS1gUUnNRh7fM9WhEgAfKIGchOZM3dgLJWpHaLGkGIXL1qMIQzVz/+iIk222akk8615y8BpYbeZgh6NXpZIS',\n",
       " b' HMh816X+tHsnbHsgcnidrh2apAg0kbiFjuv6BbMqoq0l1a7zV++jG9kr8ECOX2+XyNYro2HAt4a1ag==',\n",
       " b'X-Nonspam: None',\n",
       " b'',\n",
       " b'--5bcf5094_6b8b4567_3d0e',\n",
       " b'Content-Type: text/plain; charset=\"utf-8\"',\n",
       " b'Content-Transfer-Encoding: quoted-printable',\n",
       " b'Content-Disposition: inline',\n",
       " b'',\n",
       " b'=24=40=24 agravo interno =E2=80=93 despacho que deferiu parcial tutela re=',\n",
       " b'cursal para',\n",
       " b'afastar da mensalidade do plano de sa=C3=BAde os reajustes por',\n",
       " b'sinistralidade discutidos nos autos =E2=80=93 inconformismo da requerida =',\n",
       " b'=E2=80=93',\n",
       " b'alega=C3=A7=C3=A3o de que n=C3=A3o estariam presentes os requisitos para =',\n",
       " b'a concess=C3=A3o',\n",
       " b'da medida =E2=80=93 descabimento =E2=80=93 caso concreto em que, em sede =',\n",
       " b'de cogni=C3=A7=C3=A3o',\n",
       " b'sum=C3=A1ria e n=C3=A3o exauriente, restou patente a abusividade do perce=',\n",
       " b'ntual',\n",
       " b'utilizado, pelos termos bem explanados na decis=C3=A3o ora atacada -',\n",
       " b'decis=C3=A3o mantida.=24=24=24',\n",
       " b'',\n",
       " b'--5bcf5094_6b8b4567_3d0e',\n",
       " b'Content-Type: text/html; charset=\"utf-8\"',\n",
       " b'Content-Transfer-Encoding: quoted-printable',\n",
       " b'Content-Disposition: inline',\n",
       " b'',\n",
       " b'<html xmlns=3D=22http://www.w3.org/1999/xhtml=22>',\n",
       " b'<head>',\n",
       " b'<title></title>',\n",
       " b'</head>',\n",
       " b'<body>',\n",
       " b'<div name=3D=22messageBodySection=22 style=3D=22font-size: 14px; font-fam=',\n",
       " b'ily: -apple-system, BlinkMacSystem=46ont, sans-serif;=22>=24=40=24 agravo=',\n",
       " b' interno =E2=80=93 despacho que deferiu parcial tutela recursal para<br /=',\n",
       " b'>',\n",
       " b'afastar da mensalidade do plano de sa=C3=BAde os reajustes por<br />',\n",
       " b'sinistralidade discutidos nos autos =E2=80=93 inconformismo da requerida =',\n",
       " b'=E2=80=93<br />',\n",
       " b'alega=C3=A7=C3=A3o de que n=C3=A3o estariam presentes os requisitos para =',\n",
       " b'a concess=C3=A3o<br />',\n",
       " b'da medida =E2=80=93 descabimento =E2=80=93 caso concreto em que, em sede =',\n",
       " b'de cogni=C3=A7=C3=A3o<br />',\n",
       " b'sum=C3=A1ria e n=C3=A3o exauriente, restou patente a abusividade do perce=',\n",
       " b'ntual<br />',\n",
       " b'utilizado, pelos termos bem explanados na decis=C3=A3o ora atacada -<br /=',\n",
       " b'>',\n",
       " b'decis=C3=A3o mantida.=24=24=24</div>',\n",
       " b'</body>',\n",
       " b'</html>',\n",
       " b'',\n",
       " b'--5bcf5094_6b8b4567_3d0e--',\n",
       " b'',\n",
       " b'']"
      ]
     },
     "execution_count": 54,
     "metadata": {},
     "output_type": "execute_result"
    }
   ],
   "source": [
    "pop_server.retr(1)[1]"
   ]
  },
  {
   "cell_type": "code",
   "execution_count": 37,
   "metadata": {},
   "outputs": [
    {
     "name": "stdout",
     "output_type": "stream",
     "text": [
      "b'Received: (qmail 44371 invoked by uid 30297); 23 Oct 2018 16:47:20 -0000'b'Received: from unknown (HELO p3plibsmtp01-15.prod.phx3.secureserver.net) ([72.167.238.231])'b'          (envelope-sender <robertobatista12@gmail.com>)'b'          by p3plsmtp26-02-26.prod.phx3.secureserver.net (qmail-1.03) with SMTP'b'          for <lex@monidra.com.br>; 23 Oct 2018 16:47:20 -0000'b'Received: from mail-vs1-f54.google.com ([209.85.217.54])'b'\\tby bizsmtp with ESMTP'b'\\tid EzpvgUGCyCUgUEzpwgq7oO; Tue, 23 Oct 2018 09:47:20 -0700'b'Received: by mail-vs1-f54.google.com with SMTP id a202so1292279vsd.5'b'        for <lex@monidra.com.br>; Tue, 23 Oct 2018 09:47:20 -0700 (PDT)'b'DKIM-Signature: v=1; a=rsa-sha256; c=relaxed/relaxed;'b'        d=gmail.com; s=20161025;'b'        h=date:from:to:message-id:subject:mime-version;'b'        bh=V80i3aAE3vVRSdmzLK/5/0PqONs1eKiYq2MN7MJen2c=;'b'        b=YOBvyS/nimW150z2evfJUnXUkRGVOjv/ea6ALjFsR/UZ/JFN7XdpGCHxrMT31LYKf+'b'         QykICOAs6FH9/OVlhpICR0Ct01anQul4rlv1Khq7gsSFw8cipiTAFEwFrrhGO4C2AnRh'b'         HreMX5HpBB0TFDI3v9Guhp4aPJJhOxIfIpL2Fv7XHXr6Y+lm63qAcAktJlkkU/DOFTK7'b'         XOIzHtv1GiZtQJEm9dRWcLn87SXPVgG4KCTr+UEcLY/wFLv3pcs5Q8zDIHwI/hL9hs5Z'b'         pd0XnsUa9FBVPcSNPBcxWZ9s3+/7DQz/cqs6J5Tgf4GzDZrzmZ+4H5IxHV69vFR9Ig45'b'         ms5w=='b'X-Google-DKIM-Signature: v=1; a=rsa-sha256; c=relaxed/relaxed;'b'        d=1e100.net; s=20161025;'b'        h=x-gm-message-state:date:from:to:message-id:subject:mime-version;'b'        bh=V80i3aAE3vVRSdmzLK/5/0PqONs1eKiYq2MN7MJen2c=;'b'        b=BYEeEoABGq06XvLidl5EfSt9CPDxDYxofatMhEq+HV2n9qNjmEsb73PnQdTkxN5OTR'b'         Qwaf9kQZk1e1upW/RJdYx1zq2/jQw+pggIifserBoVfGRJ8VulFCJHV2sWgK+husVZ0E'b'         Dsma1S/mYgIlIMAEYzew1fkaXog+zK7iBC7Q5hSKdh1EjOM0Y0sRhiPM7wLZYaLSrVLP'b'         69bbMpVA6fLwSbAarhdQxfeoAOfnA1aPprUPmy5E+TKtaHv/BbjiwsdcaFmRh0CnrA3l'b'         7khilYnBSyG3SmhunP10+6YWTY+vgzVe1d5eCEKTsInqTKzD7zwYWR9gQToiH1MZZeIQ'b'         5vSQ=='b'X-Gm-Message-State: ABuFfoijqCtMGwLQJ6qHA7chdYTudW8BKkhc6YJpMv2hFWbCpKJaOw3i'b'\\tqXgDURW5LWb0uz43Oqv6gFGIx06u'b'X-Google-Smtp-Source: ACcGV61Rv849Gs1Twk548djze1YjOPUO2jJGgRyWEU6bPRW4EnlMfdmtv1hOhDs0KlX10zUSSajd0Q=='b'X-Received: by 2002:a67:464d:: with SMTP id t74mr21704823vsa.68.1540313239152;'b'        Tue, 23 Oct 2018 09:47:19 -0700 (PDT)'b'Return-Path: <robertobatista12@gmail.com>'b'Received: from [10.201.81.79] ([71.44.212.72])'b'        by smtp.gmail.com with ESMTPSA id j196sm351554vke.34.2018.10.23.09.47.16'b'        for <lex@monidra.com.br>'b'        (version=TLS1_2 cipher=ECDHE-RSA-AES128-GCM-SHA256 bits=128/128);'b'        Tue, 23 Oct 2018 09:47:17 -0700 (PDT)'b'Date: Tue, 23 Oct 2018 12:47:11 -0400'b'From: Roberto Batista <robertobatista12@gmail.com>'b'To: lex@monidra.com.br'b'Message-ID: <e2ded2f0-5b69-4456-bb80-4aa5bc39f789@Spark>'b'Subject: Lex'b'X-Readdle-Message-ID: e2ded2f0-5b69-4456-bb80-4aa5bc39f789@Spark'b'MIME-Version: 1.0'b'Content-Type: multipart/alternative; boundary=\"5bcf5094_6b8b4567_3d0e\"'b'X-CMAE-Envelope: MS4wfHpFMk+VCtDByApPdOzHv/icFGo7bX5KnS1gUUnNRh7fM9WhEgAfKIGchOZM3dgLJWpHaLGkGIXL1qMIQzVz/+iIk222akk8615y8BpYbeZgh6NXpZIS'b' HMh816X+tHsnbHsgcnidrh2apAg0kbiFjuv6BbMqoq0l1a7zV++jG9kr8ECOX2+XyNYro2HAt4a1ag=='b'X-Nonspam: None'b''b'--5bcf5094_6b8b4567_3d0e'b'Content-Type: text/plain; charset=\"utf-8\"'b'Content-Transfer-Encoding: quoted-printable'b'Content-Disposition: inline'b''b'=24=40=24 agravo interno =E2=80=93 despacho que deferiu parcial tutela re='b'cursal para'b'afastar da mensalidade do plano de sa=C3=BAde os reajustes por'b'sinistralidade discutidos nos autos =E2=80=93 inconformismo da requerida ='b'=E2=80=93'b'alega=C3=A7=C3=A3o de que n=C3=A3o estariam presentes os requisitos para ='b'a concess=C3=A3o'b'da medida =E2=80=93 descabimento =E2=80=93 caso concreto em que, em sede ='b'de cogni=C3=A7=C3=A3o'b'sum=C3=A1ria e n=C3=A3o exauriente, restou patente a abusividade do perce='b'ntual'b'utilizado, pelos termos bem explanados na decis=C3=A3o ora atacada -'b'decis=C3=A3o mantida.=24=24=24'b''b'--5bcf5094_6b8b4567_3d0e'b'Content-Type: text/html; charset=\"utf-8\"'b'Content-Transfer-Encoding: quoted-printable'b'Content-Disposition: inline'b''b'<html xmlns=3D=22http://www.w3.org/1999/xhtml=22>'b'<head>'b'<title></title>'b'</head>'b'<body>'b'<div name=3D=22messageBodySection=22 style=3D=22font-size: 14px; font-fam='b'ily: -apple-system, BlinkMacSystem=46ont, sans-serif;=22>=24=40=24 agravo='b' interno =E2=80=93 despacho que deferiu parcial tutela recursal para<br /='b'>'b'afastar da mensalidade do plano de sa=C3=BAde os reajustes por<br />'b'sinistralidade discutidos nos autos =E2=80=93 inconformismo da requerida ='b'=E2=80=93<br />'b'alega=C3=A7=C3=A3o de que n=C3=A3o estariam presentes os requisitos para ='b'a concess=C3=A3o<br />'b'da medida =E2=80=93 descabimento =E2=80=93 caso concreto em que, em sede ='b'de cogni=C3=A7=C3=A3o<br />'b'sum=C3=A1ria e n=C3=A3o exauriente, restou patente a abusividade do perce='b'ntual<br />'b'utilizado, pelos termos bem explanados na decis=C3=A3o ora atacada -<br /='b'>'b'decis=C3=A3o mantida.=24=24=24</div>'b'</body>'b'</html>'b''b'--5bcf5094_6b8b4567_3d0e--'b''b''\n"
     ]
    }
   ],
   "source": [
    "\n",
    "    # Cleaning the overload mailbox.\n",
    "numMessages = len(pop_server.list()[1])\n",
    "    \n",
    "if (numMessages > 5):\n",
    "    cleanup()\n",
    "        \n",
    "    # Extract the email message.\n",
    "i=1\n",
    "for i in range(numMessages) :\n",
    "    (server_msg, body, octets) = pop_server.retr(i+1)\n",
    "        # Tranformation of list to string\n",
    "    string = ''.join(str(e) for e in body)\n",
    "        # Using the RegEx pattern to extract subject, sender(from) and summary.\n",
    "        # Subject\n",
    "    print(string)\n",
    "    break\n",
    "    Sub_string = re.findall(pat_sub, string)\n",
    "    print(Sub_string)\n",
    "        # Sender\n",
    "    Sen_string = re.findall(pat_sender, string)\n",
    "    print(Sen_string)\n",
    "        # Summary\n",
    "    Sum_string = re.findall(pat_summary, string)\n",
    "    print(Sum_string)\n",
    "        \n",
    "\n"
   ]
  },
  {
   "cell_type": "code",
   "execution_count": 26,
   "metadata": {
    "scrolled": true
   },
   "outputs": [
    {
     "ename": "AttributeError",
     "evalue": "'NoneType' object has no attribute 'group'",
     "output_type": "error",
     "traceback": [
      "\u001b[0;31m---------------------------------------------------------------------------\u001b[0m",
      "\u001b[0;31mAttributeError\u001b[0m                            Traceback (most recent call last)",
      "\u001b[0;32m<ipython-input-26-0319df7ec809>\u001b[0m in \u001b[0;36m<module>\u001b[0;34m()\u001b[0m\n\u001b[0;32m----> 1\u001b[0;31m \u001b[0mgetMessage\u001b[0m\u001b[0;34m(\u001b[0m\u001b[0;34m)\u001b[0m\u001b[0;34m\u001b[0m\u001b[0m\n\u001b[0m",
      "\u001b[0;32m<ipython-input-16-64aaa8a160d4>\u001b[0m in \u001b[0;36mgetMessage\u001b[0;34m(pop_address, pop_port, user, pw)\u001b[0m\n\u001b[1;32m     31\u001b[0m         \u001b[0;31m# Sender\u001b[0m\u001b[0;34m\u001b[0m\u001b[0;34m\u001b[0m\u001b[0m\n\u001b[1;32m     32\u001b[0m         \u001b[0mSen_string\u001b[0m \u001b[0;34m=\u001b[0m \u001b[0mre\u001b[0m\u001b[0;34m.\u001b[0m\u001b[0msearch\u001b[0m\u001b[0;34m(\u001b[0m\u001b[0mpat_sender\u001b[0m\u001b[0;34m,\u001b[0m \u001b[0mstring\u001b[0m\u001b[0;34m)\u001b[0m\u001b[0;34m\u001b[0m\u001b[0m\n\u001b[0;32m---> 33\u001b[0;31m         \u001b[0mRetSen\u001b[0m \u001b[0;34m=\u001b[0m \u001b[0mSen_string\u001b[0m\u001b[0;34m.\u001b[0m\u001b[0mgroup\u001b[0m\u001b[0;34m(\u001b[0m\u001b[0;34m'group_sender'\u001b[0m\u001b[0;34m)\u001b[0m\u001b[0;34m\u001b[0m\u001b[0m\n\u001b[0m\u001b[1;32m     34\u001b[0m         \u001b[0;31m# Summary\u001b[0m\u001b[0;34m\u001b[0m\u001b[0;34m\u001b[0m\u001b[0m\n\u001b[1;32m     35\u001b[0m         \u001b[0mSum_string\u001b[0m \u001b[0;34m=\u001b[0m \u001b[0mre\u001b[0m\u001b[0;34m.\u001b[0m\u001b[0msearch\u001b[0m\u001b[0;34m(\u001b[0m\u001b[0mpat_summary\u001b[0m\u001b[0;34m,\u001b[0m \u001b[0mstring\u001b[0m\u001b[0;34m)\u001b[0m\u001b[0;34m\u001b[0m\u001b[0m\n",
      "\u001b[0;31mAttributeError\u001b[0m: 'NoneType' object has no attribute 'group'"
     ]
    }
   ],
   "source": [
    "getMessage()"
   ]
  },
  {
   "cell_type": "code",
   "execution_count": null,
   "metadata": {},
   "outputs": [],
   "source": [
    "dataset = 'LEX_OCT_22_2018.csv'\n",
    "df_training = pd.read_csv(dataset, sep=\",\", encoding = \"utf-8\", dtype='str', usecols= ('ementa', 'Veredito'))"
   ]
  },
  {
   "cell_type": "code",
   "execution_count": null,
   "metadata": {},
   "outputs": [],
   "source": [
    "df_prediction = df_training.head(1)\n",
    "df_prediction['ementa']=df_buffer.loc[0,'Summary']\n",
    "df_prediction['Veredito']=''\n",
    "df_prediction"
   ]
  },
  {
   "cell_type": "code",
   "execution_count": null,
   "metadata": {},
   "outputs": [],
   "source": [
    "count_vectorizer = CountVectorizer(decode_error='ignore')\n",
    "X = count_vectorizer.fit_transform(df_training['ementa'])\n",
    "Y = df_training['Veredito'].as_matrix()"
   ]
  },
  {
   "cell_type": "code",
   "execution_count": null,
   "metadata": {},
   "outputs": [],
   "source": [
    "# split up the data\n",
    "Xtrain, Xtest, Ytrain, Ytest = train_test_split(X, Y, test_size=0.10, shuffle = True, )\n",
    "# create the model, train it, print scores\n",
    "model = MultinomialNB()\n",
    "# Training and scoring\n",
    "\n",
    "model.fit(Xtrain, Ytrain)\n",
    "print(\"train score:\", model.score(Xtrain, Ytrain))\n",
    "print(\"test score:\", model.score(Xtest, Ytest))"
   ]
  },
  {
   "cell_type": "code",
   "execution_count": null,
   "metadata": {},
   "outputs": [],
   "source": [
    "type(df_prediction['ementa'])"
   ]
  },
  {
   "cell_type": "code",
   "execution_count": null,
   "metadata": {},
   "outputs": [],
   "source": [
    "X=df_prediction.loc[0,'ementa']\n",
    "print(model.predict(X))"
   ]
  },
  {
   "cell_type": "code",
   "execution_count": null,
   "metadata": {},
   "outputs": [],
   "source": []
  }
 ],
 "metadata": {
  "kernelspec": {
   "display_name": "Python 3",
   "language": "python",
   "name": "python3"
  },
  "language_info": {
   "codemirror_mode": {
    "name": "ipython",
    "version": 3
   },
   "file_extension": ".py",
   "mimetype": "text/x-python",
   "name": "python",
   "nbconvert_exporter": "python",
   "pygments_lexer": "ipython3",
   "version": "3.6.5"
  }
 },
 "nbformat": 4,
 "nbformat_minor": 2
}
