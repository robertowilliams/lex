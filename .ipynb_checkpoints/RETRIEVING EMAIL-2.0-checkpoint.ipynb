{
 "cells": [
  {
   "cell_type": "markdown",
   "metadata": {},
   "source": [
    "# **RETRIEVING EMAILS**\n",
    "## VERSION: 2.0"
   ]
  },
  {
   "cell_type": "raw",
   "metadata": {},
   "source": [
    "## MAILBOX CLEANUP"
   ]
  },
  {
   "cell_type": "raw",
   "metadata": {},
   "source": [
    "# DELETING ALL THE MESSAGES FROM THE MAILBOX\n",
    "# VERSION 1.0 - Initial version.\n",
    "\n",
    "def MailboxCleanup():\n",
    "    import poplib\n",
    "    from poplib  import POP3\n",
    "    import sys\n",
    "    \n",
    "    # POP3 account details:\n",
    "    try:\n",
    "        pop_server = poplib.POP3('pop.secureserver.net')\n",
    "        pop_server.user('lex@monidra.com.br')\n",
    "        pop_server.pass_('123456')\n",
    "    except:\n",
    "        print ('Failed to connect to server.')\n",
    "        sys.exit(1)\n",
    "    \n",
    "    numMessages = len(pop_server.list()[1])\n",
    "    numOfMessagesDel= len(pop_server.list()[1])\n",
    "    \n",
    "    if numMessages == 0:\n",
    "        return(print('There is no messages in the server: pop.secureserver.net'))\n",
    "    else:\n",
    "        while numMessages > 0:\n",
    "            for i in range(numMessages):\n",
    "                pop_server.dele(i+1)\n",
    "                numMessages = len(pop_server.list()[1])\n",
    "        pop_server.quit()\n",
    "        \n",
    "        return(print('Finished to delete', numOfMessagesDel, 'emails'))\n",
    "\n",
    "# Based on the code from https://shami.blog/2010/04/delete-all-messages-from-a-pop3-account/"
   ]
  },
  {
   "cell_type": "raw",
   "metadata": {},
   "source": [
    "MailboxCleanup()"
   ]
  },
  {
   "cell_type": "markdown",
   "metadata": {},
   "source": [
    "## MESSAGE RETRIVAL"
   ]
  },
  {
   "cell_type": "code",
   "execution_count": 42,
   "metadata": {},
   "outputs": [
    {
     "ename": "SyntaxError",
     "evalue": "name 'df_buffer' is used prior to global declaration (cell_name, line 111)",
     "output_type": "error",
     "traceback": [
      "\u001b[0;36m  File \u001b[0;32m\"cell_name\"\u001b[0;36m, line \u001b[0;32m111\u001b[0m\n\u001b[0;31mSyntaxError\u001b[0m\u001b[0;31m:\u001b[0m name 'df_buffer' is used prior to global declaration\n"
     ]
    }
   ],
   "source": [
    "# RETRIEVING EMAILS\n",
    "# VERSION 1.0 - Initial version.\n",
    "# VERSION 1.1 - Changed the patterns of Subject and Sender.\n",
    "# VERSION 1.2 - \n",
    "#   Added the column 'Label' to df_buffer.\n",
    "#   TS changed \";\\s(?P<st>[a-zA-Z]{3},\\s[0-9].\\s[a-zA-Z]{3}\\s2018\\s[0-9]{2}:[0-9]{2}:[0-9]{2})\\s\\S[0-9]{4}.\\(\"\n",
    "#   Added 'try & except' for messaging parsing.\n",
    "#   Added alerts for Mailbox empty and full.\n",
    "\n",
    "def MailboxRetrieve(mailbox_lim=3, secSubjectKey= 'Lex', log=False):\n",
    "    # Importing the necessary modules.\n",
    "    import poplib\n",
    "    from poplib  import POP3\n",
    "    import sys\n",
    "    import re\n",
    "    import pandas as pd\n",
    "    \n",
    "    # Login POP Server\n",
    "    pop_server = poplib.POP3('pop.secureserver.net')\n",
    "    pop_server.user('lex@monidra.com.br')\n",
    "    pop_server.pass_('123456')\n",
    "    pop_server.list()\n",
    "\n",
    "    # RegEx Patterns\n",
    "    TS = \"[0-9]{1,2}\\s[a-zA-Z]{3}\\s[0-9]{4}\\s[0-9]{1,2}:[0-9]{1,2}:[0-9]{1,2}\"\n",
    "    SUBJECT = \"Subject: (?P<subject>[a-zA-Z]{3})\"\n",
    "    SENDER = \"envelope-sender <(?P<sender>.+@.+.)>\\)\"\n",
    "    SUMMARY = \"\\(LEX\\)(?P<Summary>.+)\\(/LEX\\)\"\n",
    "    \n",
    "    # Creating the buffer dataframe to store the email data extracted.\n",
    "    \n",
    "    try: \n",
    "        type(df_buffer)\n",
    "    except:\n",
    "        col=['TS', 'Sender', 'Subject', 'Summary', 'Label']\n",
    "        lines=range(0,3)\n",
    "        df_buffer = pd.DataFrame(columns=col, index=lines)\n",
    "        # print(df_buffer)\n",
    "    \n",
    "    # Getting mailbox info\n",
    "    numMessages = len(pop_server.list()[1])\n",
    "    #return(numMessages)\n",
    "    \n",
    "    if (numMessages == 0):\n",
    "        alert1 = 'No Summaries for Prediction at the time.'\n",
    "        alert2 = 'Buffer of Messages:'\n",
    "        print(alert1, '\\n')\n",
    "        print(alert2)\n",
    "        return(df_buffer)\n",
    "        \n",
    "    elif (numMessages >= mailbox_lim):\n",
    "        MailboxCleanup()\n",
    "        alert3 = 'Mailbox was full. Clean-up executed.'\n",
    "        alert2 = 'Buffer of Messages:'\n",
    "        return(alert3, alert2, df_buffer)\n",
    "        \n",
    "    else:\n",
    "        \n",
    "        # Retrieving the messages\n",
    "        message_list = pop_server.retr(1)[1]\n",
    "        #return(print(message_list))\n",
    "        \n",
    "        # Transforming in String\n",
    "        message_str = ''.join(map(str, message_list))\n",
    "        #return(print(message_str))\n",
    "    \n",
    "        # Extract content using RegEx to populate the four columns\n",
    "        Ts = re.findall(TS, message_str)\n",
    "        #return(print(Ts))\n",
    "        Ts = Ts[0]\n",
    "        #return(print(Ts))\n",
    "        \n",
    "        try:\n",
    "            Subject = re.findall(SUBJECT, message_str)\n",
    "            #return(print(Subject))\n",
    "            Subject = Subject[0]\n",
    "            #return(print(Subject))\n",
    "        except:\n",
    "            MailboxCleanup()\n",
    "            return('E-mail without Lex key in the Subject. Mailbox Clean-up executed.')\n",
    "            \n",
    "        Sender = re.findall(SENDER, message_str)\n",
    "        ## return(print(Sender))\n",
    "        Sender = Sender[0]\n",
    "            \n",
    "        try:\n",
    "            Summary = re.findall(SUMMARY, message_str)\n",
    "            # return(Summary)\n",
    "            Summary = Summary[0]\n",
    "        except:\n",
    "            MailboxCleanup()\n",
    "            return('E-mail without Lex markers (LEX) and (/LEX). Mailbox Clean-up executed.')\n",
    "            \n",
    "        # Writing into the dataframe\n",
    "        row = 0\n",
    "        while row < numMessages:\n",
    "            df_buffer.loc[row, 'TS'] = Ts\n",
    "            df_buffer.loc[row, 'Sender'] = Sender\n",
    "            df_buffer.loc[row, 'Subject'] = Subject\n",
    "            df_buffer.loc[row, 'Summary'] = Summary\n",
    "            row = row + 1\n",
    "        \n",
    "        # Deleting mailbox.\n",
    "        MailboxCleanup()\n",
    "        \n",
    "        if log ==True: \n",
    "            return(print('\\n'), print(Ts, Sender, Summary, df_buffer))\n",
    "        return(df_buffer)"
   ]
  },
  {
   "cell_type": "code",
   "execution_count": 40,
   "metadata": {
    "scrolled": false
   },
   "outputs": [
    {
     "name": "stdout",
     "output_type": "stream",
     "text": [
      "Finished to delete 1 emails\n"
     ]
    },
    {
     "data": {
      "text/html": [
       "<div>\n",
       "<style scoped>\n",
       "    .dataframe tbody tr th:only-of-type {\n",
       "        vertical-align: middle;\n",
       "    }\n",
       "\n",
       "    .dataframe tbody tr th {\n",
       "        vertical-align: top;\n",
       "    }\n",
       "\n",
       "    .dataframe thead th {\n",
       "        text-align: right;\n",
       "    }\n",
       "</style>\n",
       "<table border=\"1\" class=\"dataframe\">\n",
       "  <thead>\n",
       "    <tr style=\"text-align: right;\">\n",
       "      <th></th>\n",
       "      <th>TS</th>\n",
       "      <th>Sender</th>\n",
       "      <th>Subject</th>\n",
       "      <th>Summary</th>\n",
       "      <th>Label</th>\n",
       "    </tr>\n",
       "  </thead>\n",
       "  <tbody>\n",
       "    <tr>\n",
       "      <th>0</th>\n",
       "      <td>1 Nov 2018 20:03:52</td>\n",
       "      <td>log@monidra.com.br</td>\n",
       "      <td>Lex</td>\n",
       "      <td>plano de sa&amp;uacute;de - revis&amp;atilde;o da tab...</td>\n",
       "      <td>NaN</td>\n",
       "    </tr>\n",
       "    <tr>\n",
       "      <th>1</th>\n",
       "      <td>NaN</td>\n",
       "      <td>NaN</td>\n",
       "      <td>NaN</td>\n",
       "      <td>NaN</td>\n",
       "      <td>NaN</td>\n",
       "    </tr>\n",
       "    <tr>\n",
       "      <th>2</th>\n",
       "      <td>NaN</td>\n",
       "      <td>NaN</td>\n",
       "      <td>NaN</td>\n",
       "      <td>NaN</td>\n",
       "      <td>NaN</td>\n",
       "    </tr>\n",
       "  </tbody>\n",
       "</table>\n",
       "</div>"
      ],
      "text/plain": [
       "                    TS              Sender Subject  \\\n",
       "0  1 Nov 2018 20:03:52  log@monidra.com.br     Lex   \n",
       "1                  NaN                 NaN     NaN   \n",
       "2                  NaN                 NaN     NaN   \n",
       "\n",
       "                                             Summary Label  \n",
       "0   plano de sa&uacute;de - revis&atilde;o da tab...   NaN  \n",
       "1                                                NaN   NaN  \n",
       "2                                                NaN   NaN  "
      ]
     },
     "execution_count": 40,
     "metadata": {},
     "output_type": "execute_result"
    }
   ],
   "source": [
    "MailboxRetrieve()"
   ]
  },
  {
   "cell_type": "code",
   "execution_count": 41,
   "metadata": {},
   "outputs": [
    {
     "ename": "NameError",
     "evalue": "name 'df_buffer' is not defined",
     "output_type": "error",
     "traceback": [
      "\u001b[0;31m---------------------------------------------------------------------------\u001b[0m",
      "\u001b[0;31mNameError\u001b[0m                                 Traceback (most recent call last)",
      "\u001b[0;32m<ipython-input-41-127d4c389187>\u001b[0m in \u001b[0;36m<module>\u001b[0;34m\u001b[0m\n\u001b[0;32m----> 1\u001b[0;31m \u001b[0mdf_buffer\u001b[0m\u001b[0;34m\u001b[0m\u001b[0m\n\u001b[0m",
      "\u001b[0;31mNameError\u001b[0m: name 'df_buffer' is not defined"
     ]
    }
   ],
   "source": [
    "df_buffer"
   ]
  },
  {
   "cell_type": "code",
   "execution_count": null,
   "metadata": {},
   "outputs": [],
   "source": []
  }
 ],
 "metadata": {
  "kernelspec": {
   "display_name": "Python 3",
   "language": "python",
   "name": "python3"
  },
  "language_info": {
   "codemirror_mode": {
    "name": "ipython",
    "version": 3
   },
   "file_extension": ".py",
   "mimetype": "text/x-python",
   "name": "python",
   "nbconvert_exporter": "python",
   "pygments_lexer": "ipython3",
   "version": "3.6.6"
  }
 },
 "nbformat": 4,
 "nbformat_minor": 2
}
