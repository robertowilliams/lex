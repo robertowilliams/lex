{
 "cells": [
  {
   "cell_type": "markdown",
   "metadata": {},
   "source": [
    "# **PREDICTIONS**\n",
    "## VERSION: 2.0"
   ]
  },
  {
   "cell_type": "markdown",
   "metadata": {},
   "source": [
    "## 1. IMPORTING LIBRARY\n"
   ]
  },
  {
   "cell_type": "code",
   "execution_count": 1,
   "metadata": {},
   "outputs": [],
   "source": [
    "import poplib\n",
    "from poplib  import POP3\n",
    "import re\n",
    "import os\n",
    "import pandas as pd\n",
    "\n",
    "from sklearn.feature_extraction.text import TfidfVectorizer, CountVectorizer\n",
    "from sklearn.model_selection import train_test_split\n",
    "from sklearn.naive_bayes import MultinomialNB\n",
    "from sklearn import svm\n",
    "import csv"
   ]
  },
  {
   "cell_type": "code",
   "execution_count": 4,
   "metadata": {},
   "outputs": [
    {
     "data": {
      "text/plain": [
       "(b'+OK ', [b'1 4120', b'2 4726'], 16)"
      ]
     },
     "execution_count": 4,
     "metadata": {},
     "output_type": "execute_result"
    }
   ],
   "source": [
    "# User details\n",
    "user = 'lex@monidra.com.br'\n",
    "pw = '123456'\n",
    "# POP details\n",
    "pop_address = 'pop.secureserver.net'\n",
    "pop_port = '110'\n",
    "# Login POP Server\n",
    "pop_server = poplib.POP3(pop_address, port=pop_port)\n",
    "pop_server.user(user)\n",
    "pop_server.pass_(pw)\n",
    "pop_server.list()"
   ]
  },
  {
   "cell_type": "code",
   "execution_count": 11,
   "metadata": {},
   "outputs": [],
   "source": [
    "# RETRIEVING EMAILS\n",
    "# VERSION 1.0\n",
    "\n",
    "def MailboxRetrieve(user=user, pw=pw, pop_address=pop_address, pop_port=pop_port, mailbox_lim=5, log=False):\n",
    "\n",
    "    # Login POP Server\n",
    "    pop_server = poplib.POP3(pop_address, port=pop_port)\n",
    "    pop_server.user(user)\n",
    "    pop_server.pass_(pw)\n",
    "    pop_server.list()\n",
    "\n",
    "    # RegEx Patterns\n",
    "    TS = ';\\s(?P<st>[a-zA-Z]{3},\\s[0-9].\\s[a-zA-Z]{3}\\s2018\\s[0-9]{2}:[0-9]{2}:[0-9]{2})\\s\\S[0-9]{4}.\\('\n",
    "    SUB = 'Subject: (?P<subject>Lex)'\n",
    "    SENDER = 'From: .*\\<(?P<sender>.+)\\>.+To:'\n",
    "    SUMMARY = \"\\(LEX\\)(?P<Summary>.+)\\(/LEX\\)\"\n",
    "    \n",
    "    # Getting mailbox info\n",
    "    numMessages = len(pop_server.list()[1])\n",
    "    numMessages\n",
    "    \n",
    "    if (numMessages == 0):\n",
    "        return(print('No Summaries for Prediction at the time.'))\n",
    "        \n",
    "    elif (numMessages > mailbox_lim):\n",
    "        cleanup()\n",
    "        return(print('Mailbox cleanup done!'))\n",
    "           \n",
    "    else:\n",
    "        # Creating the buffer dataframe to store the email data extracted.\n",
    "        col=['TS', 'Sender', 'Subject', 'Summary']\n",
    "        lines=range(0,4)\n",
    "        df_buffer = pd.DataFrame(columns=col, index=lines)\n",
    "        \n",
    "        # Retrieving the messages\n",
    "        message_list = pop_server.retr(1)[1]\n",
    "        #return(print(message_list))\n",
    "        \n",
    "        # Transforming in String\n",
    "        message_str = ''.join(map(str, message_list))\n",
    "        #return(print(message_str))\n",
    "    \n",
    "        # Extract content using RegEx to populate the four columns\n",
    "        Ts = re.findall(TS, message_str)\n",
    "        Ts = Ts[0]\n",
    "        \n",
    "        Subject = re.findall(SUB, message_str)\n",
    "        Subject = Subject[0]\n",
    "                              \n",
    "        Sender = re.findall(SENDER, message_str)\n",
    "        ## return(print(Sender))\n",
    "        Sender = Sender[0]\n",
    "            \n",
    "        Summary = re.findall(SUMMARY, message_str)\n",
    "        Summary = Summary[0]\n",
    "            \n",
    "        # Writing into the dataframe\n",
    "        row = 0\n",
    "        while row < numMessages:\n",
    "            df_buffer.loc[row, 'TS'] = Ts\n",
    "            df_buffer.loc[row, 'Sender'] = Sender\n",
    "            df_buffer.loc[row, 'Subject'] = Subject\n",
    "            df_buffer.loc[row, 'Summary'] = Summary\n",
    "            row = row + 1\n",
    "        \n",
    "        # Deleting mailbox.\n",
    "        ###### MailboxCleanup()\n",
    "        \n",
    "        if log ==True: \n",
    "            return(print(Ts, Sender, Summary, df_buffer))\n",
    "        \n",
    "        return(print(df_buffer))"
   ]
  },
  {
   "cell_type": "code",
   "execution_count": 12,
   "metadata": {},
   "outputs": [
    {
     "name": "stdout",
     "output_type": "stream",
     "text": [
      "[b'Received: (qmail 38516 invoked by uid 30297); 24 Oct 2018 17:00:07 -0000', b'Received: from unknown (HELO p3plibsmtp02-09.prod.phx3.secureserver.net) ([68.178.213.9])', b'          (envelope-sender <robertowilliams@gmail.com>)', b'          by p3plsmtp26-03-26.prod.phx3.secureserver.net (qmail-1.03) with SMTP', b'          for <lex@monidra.com.br>; 24 Oct 2018 17:00:07 -0000', b'Received: from mail-vs1-f54.google.com ([209.85.217.54])', b'\\tby bizsmtp with ESMTP', b'\\tid FMVqgg8jbwE3GFMVqgmYO0; Wed, 24 Oct 2018 10:00:07 -0700', b'Received: by mail-vs1-f54.google.com with SMTP id c10so3641517vsk.2', b'        for <lex@monidra.com.br>; Wed, 24 Oct 2018 10:00:06 -0700 (PDT)', b'DKIM-Signature: v=1; a=rsa-sha256; c=relaxed/relaxed;', b'        d=gmail.com; s=20161025;', b'        h=date:from:to:message-id:subject:mime-version;', b'        bh=WQPojHs9TbwmzcbmBH9K8vFRDEfu2mgV08sfaxapPLY=;', b'        b=sEMOiYqsL77qB2qNDVEEZH+bJDVk59ScSHKRdmMNY/YCISYLdXWO2b3TO0VOscpA8q', b'         YhPcChJmbwbph4sGPU5vaUQN8f+Sp4ZKX1t1CMn4+gytolWGoMfXH15UbrWEEwhS6v2A', b'         dWtMJVmtaJqOFnEbn8RdlXurv2sMIAFvYyC7+I55+AgJtD1TE8t70zvKFTfKLOatJ9iI', b'         JOrAjk5L2rEdTrG2TtB37LKg5m1dPZ3YsaiByG9LJhgsXEByYOyBIWLW47ytQWkJok5G', b'         /iuCNEitANScudoxNAZX2VoenAwLIGp4lxnqWaqieI9Kswd2oIcVSOFmRv2y6RL6uLI6', b'         Bcmw==', b'X-Google-DKIM-Signature: v=1; a=rsa-sha256; c=relaxed/relaxed;', b'        d=1e100.net; s=20161025;', b'        h=x-gm-message-state:date:from:to:message-id:subject:mime-version;', b'        bh=WQPojHs9TbwmzcbmBH9K8vFRDEfu2mgV08sfaxapPLY=;', b'        b=riwJ/GyTFo/i/8NtOhbnvOTz8XvSDsNCs9fa//pu6A/YhkHbPcCfPsInfHZL0wRihF', b'         EQkj8k8vKvNF+My8HvCKsMX/bQ6PcP2wg4U0v6JFbjMQRc2UFwm/4oS2JuIyYVoM+4vu', b'         LVKgkjeoDHyypfIQIumopmPWJxUxTPTzy49E4dVqysCtdz87jtMlBHwyKNTNoaIeDLL8', b'         gQsa6zX3dXhsVcEoXxKI5lxI9eZrprCK2vb6F1t3w9nc5XwZHhVxr33dVKERK76ErKb8', b'         bPS+h37bpWyCCeWmbx2g0P+qqlwOero7J8RqTqSedpAixfHiGbCFJg9EjopMWaszLxmq', b'         MCFA==', b'X-Gm-Message-State: AGRZ1gIAd21I2w49DnnqZI+k+D8I8OBBe7wmamgU5Bf87wVFjgJ2CXT4', b'\\tMBHQ0QVF15zO6fhWCXC/B0XSJxKfmPs=', b'X-Google-Smtp-Source: AJdET5f/jNrko0TvMsFL01vPRd/YgOL6yixZyrNO+l1wyl3LuYKB/0rrznxOd2xRoMtghdC/0278Cg==', b'X-Received: by 2002:a67:a95b:: with SMTP id s88mr1554638vse.180.1540400405318;', b'        Wed, 24 Oct 2018 10:00:05 -0700 (PDT)', b'Return-Path: <robertowilliams@gmail.com>', b'Received: from [10.201.81.79] ([71.44.212.72])', b'        by smtp.gmail.com with ESMTPSA id g201-v6sm1044244vke.35.2018.10.24.10.00.04', b'        for <lex@monidra.com.br>', b'        (version=TLS1_2 cipher=ECDHE-RSA-AES128-GCM-SHA256 bits=128/128);', b'        Wed, 24 Oct 2018 10:00:04 -0700 (PDT)', b'Date: Wed, 24 Oct 2018 12:59:58 -0400', b'From: Roberto Williams Batista <robertowilliams@gmail.com>', b'To: lex@monidra.com.br', b'Message-ID: <9f1fd4b2-08cd-4b41-8a2e-716cac188005@Spark>', b'Subject: LEX', b'X-Readdle-Message-ID: 9f1fd4b2-08cd-4b41-8a2e-716cac188005@Spark', b'MIME-Version: 1.0', b'Content-Type: multipart/alternative; boundary=\"5bd0a513_74b0dc51_91d\"', b'X-CMAE-Envelope: MS4wfBwFMep0Vb390lebo7sgPhrlzpNJeDJ/lB9UpdU/unTm3aWn3GoEmkhrGqLHh5fGdbtMwhpXX7gYdW4jzJxs8FPmocrXurhNiDbZziYx3+NTN+0uO9d8', b' woqMt7DH2BbN4aRkOECVvA5yQXis7fvzFXMuKVpwilQ8hgW88hXXZx9GsUXTweTYC+EHGVi8gAcj+w==', b'X-Nonspam: None', b'', b'--5bd0a513_74b0dc51_91d', b'Content-Type: text/plain; charset=\"utf-8\"', b'Content-Transfer-Encoding: 7bit', b'Content-Disposition: inline', b'', b'(LEX) AAAAAAAAAAAAAAAAAAAAAAAAAAAAAAAAAAAAAAAAAAAAAAAAAA', b'AAAAAAAAAAAAAAAAAAAAAAAAAAAAAAAAAAAAAAAAAAAAAAAAAAAAAAA', b'AAAAAAAAAAAAAAAAAAAAAAAAAAAAAAAAAAAAAAAAAAAAAAAAAAAAAAA', b'AAAAAAAAAAAAAAAAAAAAAAAAAAAAAAAAAAA(/LEX)', b'', b'--5bd0a513_74b0dc51_91d', b'Content-Type: text/html; charset=\"utf-8\"', b'Content-Transfer-Encoding: quoted-printable', b'Content-Disposition: inline', b'', b'<html xmlns=3D=22http://www.w3.org/1999/xhtml=22>', b'<head>', b'<title></title>', b'</head>', b'<body>', b'<div name=3D=22messageBodySection=22 style=3D=22font-size: 14px; font-fam=', b'ily: -apple-system, BlinkMacSystem=46ont, sans-serif;=22>', b'<div>(LEX) AAAAAAAAAAAAAAAAAAAAAAAAAAAAAAAAAAAAAAAAAAAAAAAAAA<br />', b'AAAAAAAAAAAAAAAAAAAAAAAAAAAAAAAAAAAAAAAAAAAAAAAAAAAAAAA<br />', b'AAAAAAAAAAAAAAAAAAAAAAAAAAAAAAAAAAAAAAAAAAAAAAAAAAAAAAA<br />', b'AAAAAAAAAAAAAAAAAAAAAAAAAAAAAAAAAAA(/LEX)<br /></div>', b'</div>', b'</body>', b'</html>', b'', b'--5bd0a513_74b0dc51_91d--', b'', b'']\n"
     ]
    }
   ],
   "source": [
    "MailboxRetrieve()"
   ]
  },
  {
   "cell_type": "markdown",
   "metadata": {},
   "source": [
    "# ABOVE IS THE RETRIEVING EMAIL PART"
   ]
  },
  {
   "cell_type": "code",
   "execution_count": null,
   "metadata": {
    "scrolled": true
   },
   "outputs": [],
   "source": [
    "# List the files in the directory.\n",
    "os.listdir()"
   ]
  },
  {
   "cell_type": "code",
   "execution_count": null,
   "metadata": {
    "scrolled": true
   },
   "outputs": [],
   "source": [
    "# file name definition.\n",
    "file_name = 'LEX_OCT_22_2018.csv'\n",
    "# Reading the CSV file into 'data' variable.\n",
    "df = pd.read_csv(file_name)\n",
    "# Check the 'data' content.\n",
    "df.head(2)\n"
   ]
  },
  {
   "cell_type": "code",
   "execution_count": null,
   "metadata": {},
   "outputs": [],
   "source": [
    "df.drop(['assunto', 'relator', 'comarca', 'org_julgador'], axis=1, inplace=True)\n"
   ]
  },
  {
   "cell_type": "code",
   "execution_count": null,
   "metadata": {},
   "outputs": [],
   "source": [
    "df_pred = df.rename(columns={\"ementa\": \"data\", \"Veredito\": \"label\"})\n",
    "df_pred.head(3)"
   ]
  },
  {
   "cell_type": "code",
   "execution_count": null,
   "metadata": {},
   "outputs": [],
   "source": [
    "# instancing CountVectorizer\n",
    "count_vectorizer = CountVectorizer(decode_error='ignore')\n",
    "# Inserting the df.data into X variable.\n",
    "X = count_vectorizer.fit_transform(df_pred['data'])\n",
    "# Inserting the df.label into variable 'Y' as a matrix.\n",
    "Y = df_pred['label'].as_matrix()"
   ]
  },
  {
   "cell_type": "code",
   "execution_count": null,
   "metadata": {},
   "outputs": [],
   "source": [
    "# Split up the data\n",
    "Xtrain, Xtest, Ytrain, Ytest = train_test_split(X, Y, test_size=0.10, shuffle = True)\n",
    "\n",
    "# Create the model\n",
    "model = MultinomialNB()\n",
    "\n",
    "# Training\n",
    "model.fit(Xtrain, Ytrain)\n",
    "\n",
    "# Scoring\n",
    "print(\"train score:\", model.score(Xtrain, Ytrain))\n",
    "print(\"test score:\", model.score(Xtest, Ytest))"
   ]
  },
  {
   "cell_type": "code",
   "execution_count": null,
   "metadata": {},
   "outputs": [],
   "source": [
    "TextPredictionVectorized = count_vectorizer.fit_transform([TextPrediction])\n",
    "TextPredictionVectorized.toarray()"
   ]
  },
  {
   "cell_type": "raw",
   "metadata": {},
   "source": [
    "model.predict(TextPredictionVectorized)"
   ]
  },
  {
   "cell_type": "code",
   "execution_count": null,
   "metadata": {},
   "outputs": [],
   "source": []
  },
  {
   "cell_type": "code",
   "execution_count": null,
   "metadata": {},
   "outputs": [],
   "source": []
  },
  {
   "cell_type": "code",
   "execution_count": null,
   "metadata": {},
   "outputs": [],
   "source": []
  },
  {
   "cell_type": "code",
   "execution_count": null,
   "metadata": {},
   "outputs": [],
   "source": []
  },
  {
   "cell_type": "code",
   "execution_count": null,
   "metadata": {},
   "outputs": [],
   "source": []
  },
  {
   "cell_type": "code",
   "execution_count": null,
   "metadata": {},
   "outputs": [],
   "source": []
  }
 ],
 "metadata": {
  "kernelspec": {
   "display_name": "Python 3",
   "language": "python",
   "name": "python3"
  },
  "language_info": {
   "codemirror_mode": {
    "name": "ipython",
    "version": 3
   },
   "file_extension": ".py",
   "mimetype": "text/x-python",
   "name": "python",
   "nbconvert_exporter": "python",
   "pygments_lexer": "ipython3",
   "version": "3.6.6"
  }
 },
 "nbformat": 4,
 "nbformat_minor": 2
}
