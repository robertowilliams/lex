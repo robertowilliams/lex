{
 "cells": [
  {
   "cell_type": "markdown",
   "metadata": {},
   "source": [
    "# **LEX**\n",
    "## **Version: 2.2 - TEST UNICODE**"
   ]
  },
  {
   "cell_type": "markdown",
   "metadata": {},
   "source": [
    "## **1. FUNCTIONS**"
   ]
  },
  {
   "cell_type": "markdown",
   "metadata": {},
   "source": [
    "## **1.1 MailBoxCleanup**"
   ]
  },
  {
   "cell_type": "code",
   "execution_count": null,
   "metadata": {},
   "outputs": [],
   "source": [
    "def MailboxCleanup():\n",
    "    import poplib\n",
    "    from poplib  import POP3\n",
    "    import sys\n",
    "    # POP3 account details:\n",
    "    try:\n",
    "        pop_server = poplib.POP3('pop.secureserver.net')\n",
    "        pop_server.user('log@monidra.com.br')\n",
    "        pop_server.pass_('123456')\n",
    "    except:\n",
    "        print ('Failed to connect to server.')\n",
    "        sys.exit(1)\n",
    "    numMessages = len(pop_server.list()[1])\n",
    "    numOfMessagesDel= len(pop_server.list()[1])\n",
    "    if numMessages == 0:\n",
    "        return(print('There is no messages in the server: pop.secureserver.net'))\n",
    "    else:\n",
    "        while numMessages > 0:\n",
    "            for i in range(numMessages):\n",
    "                pop_server.dele(i+1)\n",
    "                numMessages = len(pop_server.list()[1])\n",
    "        pop_server.quit()\n",
    "        return(print('Finished to delete', numOfMessagesDel, 'emails'))\n",
    "# Based on the code from https://shami.blog/2010/04/delete-all-messages-from-a-pop3-account/"
   ]
  },
  {
   "cell_type": "markdown",
   "metadata": {},
   "source": [
    "## **1.2 MailboxRetrieve**"
   ]
  },
  {
   "cell_type": "code",
   "execution_count": null,
   "metadata": {},
   "outputs": [],
   "source": [
    "def MailboxRetrieve(mailbox_lim=2, secSubjectKey= 'Lex', log=False):\n",
    "    # Importing the necessary modules.\n",
    "    import poplib\n",
    "    from poplib  import POP3\n",
    "    import sys\n",
    "    import re\n",
    "    import pandas as pd\n",
    "    # Defining global variables\n",
    "    global df_buffer\n",
    "    # Login POP Server\n",
    "    pop_server = poplib.POP3('pop.secureserver.net')\n",
    "    pop_server.user('log@monidra.com.br') # LOG <<<<<<<<<<<<<<<<<<<<<<<<<<<<<<<\n",
    "    pop_server.pass_('123456')\n",
    "    pop_server.list()\n",
    "    # RegEx Patterns\n",
    "    TS = \"[0-9]{1,2}\\s[a-zA-Z]{3}\\s[0-9]{4}\\s[0-9]{1,2}:[0-9]{1,2}:[0-9]{1,2}\"\n",
    "    SUBJECT = \"Subject: (?P<subject>[a-zA-Z]{3})\"\n",
    "    SENDER = \"envelope-sender <(?P<sender>.+@.+.)>\\)\"\n",
    "    SUMMARY = \"\\(LEX\\)(?P<Summary>.+)\\(/LEX\\)\"\n",
    "    # Creating the buffer dataframe to store the email data extracted.\n",
    "    try: \n",
    "        type(df_buffer)\n",
    "    except:\n",
    "        col=['TS', 'Sender', 'Subject', 'Summary', 'Label']\n",
    "        lines=range(0,3)\n",
    "        df_buffer = pd.DataFrame(columns=col, index=lines)\n",
    "        # print(df_buffer)\n",
    "    \n",
    "    # Getting mailbox info\n",
    "    numMessages = len(pop_server.list()[1])\n",
    "    #return(numMessages)\n",
    "    if (numMessages == 0):\n",
    "        alert1 = 'No Summaries for Prediction at the time.'\n",
    "        alert2 = 'Buffer of Messages:'\n",
    "        print(alert1, '\\n')\n",
    "        #print(alert2)\n",
    "        #print(df_buffer)\n",
    "        return()\n",
    "    elif (numMessages >= mailbox_lim):\n",
    "        MailboxCleanup()\n",
    "        alert3 = 'Mailbox was full. Clean-up executed.'\n",
    "        alert2 = 'Buffer of Messages:'\n",
    "        return(alert3, alert2, df_buffer)\n",
    "    else:\n",
    "        # Retrieving the messages\n",
    "        message_list = pop_server.retr(1)[1]\n",
    "        #return(print(message_list))\n",
    "        # Transforming in String\n",
    "        message_str = ''.join(map(str, message_list))\n",
    "        #return(print(message_str))\n",
    "        # Extract content using RegEx to populate the four columns\n",
    "        Ts = re.findall(TS, message_str)\n",
    "        #return(print(Ts))\n",
    "        Ts = Ts[0]\n",
    "        #return(print(Ts))\n",
    "        try:\n",
    "            Subject = re.findall(SUBJECT, message_str)\n",
    "            #return(print(Subject))\n",
    "            Subject = Subject[0]\n",
    "            #return(print(Subject))\n",
    "        except:\n",
    "            MailboxCleanup()\n",
    "            return('E-mail without Lex key in the Subject. Mailbox Clean-up executed.')\n",
    "        Sender = re.findall(SENDER, message_str)\n",
    "        ## return(print(Sender))\n",
    "        Sender = Sender[0]\n",
    "        try:\n",
    "            Summary = re.findall(SUMMARY, message_str)\n",
    "            # return(Summary)\n",
    "            Summary = Summary[0]\n",
    "        except:\n",
    "            MailboxCleanup()\n",
    "            return('E-mail without Lex markers (LEX) and (/LEX). Mailbox Clean-up executed.')\n",
    "        # Writing into the dataframe\n",
    "        row = 0\n",
    "        while row < numMessages:\n",
    "            df_buffer.loc[row, 'TS'] = Ts\n",
    "            df_buffer.loc[row, 'Sender'] = Sender\n",
    "            df_buffer.loc[row, 'Subject'] = Subject\n",
    "            df_buffer.loc[row, 'Summary'] = Summary\n",
    "            row = row + 1\n",
    "        # Deleting mailbox.\n",
    "        MailboxCleanup()\n",
    "        if log ==True: \n",
    "            return(print('\\n'), print(Ts, Sender, Summary, df_buffer))\n",
    "        return(df_buffer)"
   ]
  },
  {
   "cell_type": "code",
   "execution_count": null,
   "metadata": {},
   "outputs": [],
   "source": [
    "MailboxRetrieve()"
   ]
  },
  {
   "cell_type": "markdown",
   "metadata": {},
   "source": [
    "***\n",
    "## **1.3 ML Pre Processing**"
   ]
  },
  {
   "cell_type": "code",
   "execution_count": null,
   "metadata": {},
   "outputs": [],
   "source": [
    "def MLPreProcessing(file_name):\n",
    "    # Import library\n",
    "    import os\n",
    "    import pandas as pd\n",
    "    import numpy as np\n",
    "    import csv\n",
    "    # Reading the CSV file into 'data' variable.\n",
    "    try:\n",
    "        df = pd.read_csv(file_name)\n",
    "        df.drop(['assunto', 'relator', 'comarca', 'org_julgador'], axis=1, inplace=True)\n",
    "        df_pred = df.rename(columns={\"ementa\": \"data\", \"Veredito\": \"label\"})\n",
    "        df_pred['label'] = df_pred['label'].map({'P':'1','N':'0','G':'2'})\n",
    "        df_pred.to_csv('Lex_File.csv', index = False)\n",
    "    except:\n",
    "        listDir = os.listdir()\n",
    "        return(print('Process Fail, check if the file is listed below:'), print('\\n', listDir))\n",
    "    return('File exported with success!')"
   ]
  },
  {
   "cell_type": "markdown",
   "metadata": {},
   "source": [
    "***\n",
    "## **1.4 ML Prediction**"
   ]
  },
  {
   "cell_type": "code",
   "execution_count": null,
   "metadata": {},
   "outputs": [],
   "source": [
    "def MLPrediction(file_name='Lex_File.csv'):\n",
    "    \n",
    "    # Importing necesary modules\n",
    "    import os\n",
    "    import pandas as pd\n",
    "    import numpy as np\n",
    "    import csv\n",
    "    from sklearn.feature_extraction.text import CountVectorizer\n",
    "    from sklearn.model_selection import train_test_split\n",
    "    from sklearn.naive_bayes import MultinomialNB\n",
    "    import csv\n",
    "    \n",
    "    # Global variables\n",
    "    global train_score, test_score, result\n",
    "    \n",
    "    # Reading the CSV file into 'data' variable.\n",
    "    try:\n",
    "        df_pred = pd.read_csv(file_name, index_col=None)\n",
    "    except:\n",
    "        listDir = os.listdir()\n",
    "        print('Process Fail, check if the file is listed below:')\n",
    "        print('\\n', listDir)\n",
    "        return()\n",
    "\n",
    "    # instancing\n",
    "    count= CountVectorizer(decode_error='ignore')\n",
    "    nb = MultinomialNB()\n",
    "    \n",
    "    try:\n",
    "        # Inserting the df.data into X variable.\n",
    "        X = count.fit_transform(df_pred['data'])\n",
    "        # Inserting the df.label into variable 'Y' as a matrix.\n",
    "        Y = df_pred['label'].as_matrix()\n",
    "        # Split up the data\n",
    "        Xtrain, Xtest, Ytrain, Ytest = train_test_split(X, Y, test_size=0.10, shuffle = True)\n",
    "        # Training\n",
    "        nb.fit(Xtrain, Ytrain)\n",
    "        # Scoring\n",
    "        train_score = nb.score(Xtrain, Ytrain)\n",
    "        test_score = nb.score(Xtest, Ytest)\n",
    "        text_to_predict = [df_buffer.iloc[0,3]]\n",
    "        predict_vct = count.transform(text_to_predict)\n",
    "        result = nb.predict(predict_vct)\n",
    "        df_buffer.iloc[0,4] = result[0]\n",
    "        return(result[0])\n",
    "        # print('Predicted category: %d' % int(category[0]))\n",
    "    except:\n",
    "        print('Prediction process failure')\n",
    "        return()"
   ]
  },
  {
   "cell_type": "markdown",
   "metadata": {},
   "source": [
    "***\n",
    "## **1.5 dfCleanup**"
   ]
  },
  {
   "cell_type": "code",
   "execution_count": null,
   "metadata": {},
   "outputs": [],
   "source": [
    "def dfCleanup():\n",
    "    import time\n",
    "    df_buffer.loc[:,'TS'] = ''\n",
    "    df_buffer.loc[:,'Sender'] = ''\n",
    "    df_buffer.loc[:,'Subject'] = ''\n",
    "    df_buffer.loc[:,'Summary'] = ''\n",
    "    df_buffer.loc[:,'Label'] = ''\n",
    "    time.sleep(15)\n",
    "    print(df_buffer)\n",
    "    return()"
   ]
  },
  {
   "cell_type": "markdown",
   "metadata": {},
   "source": [
    "***\n",
    "## **1.6 EmailSender**"
   ]
  },
  {
   "cell_type": "code",
   "execution_count": null,
   "metadata": {},
   "outputs": [],
   "source": [
    "def EmailSender():\n",
    "    if df_buffer.iloc[0,4] == 0:\n",
    "        message = 'Petição não provida'\n",
    "    elif df_buffer.iloc[0,4] == 1:\n",
    "        message = 'Petição provida parcialmente'\n",
    "    elif df_buffer.iloc[0,4] == 2:\n",
    "        message = 'Petição provida parcialmente' \n",
    "    else :\n",
    "        message = 'Consulta sem label'\n",
    "    destination = df_buffer.iloc[0,1]\n",
    "    # importing necessary packages\n",
    "    from email.mime.multipart import MIMEMultipart\n",
    "    from email.mime.text import MIMEText\n",
    "    import smtplib\n",
    "    # create message object instance\n",
    "    msg = MIMEMultipart()\n",
    "    # setup the parameters of the message\n",
    "    msg['From'] = 'lex@monidra.com.br'\n",
    "    msg['To'] = destination\n",
    "    msg['Subject'] = \"Lex\"\n",
    "    # add in the message body\n",
    "    msg.attach(MIMEText(message, 'plain'))\n",
    "    #create server\n",
    "    server = smtplib.SMTP('smtpout.secureserver.net')\n",
    "    # Login Credentials for sending the mail\n",
    "    \n",
    "    try:\n",
    "        server.login(msg['From'], '123456') \n",
    "        # send the message via the server.\n",
    "        server.sendmail(msg['From'], msg['To'], msg.as_string())\n",
    "        server.quit()\n",
    "        print (\"successfully sent email to %s:\" % (msg['To']))\n",
    "        dfCleanup()\n",
    "        return()\n",
    "    except:\n",
    "        print('Email sender failure')\n",
    "        return()\n",
    "    # Reference: https://code.tutsplus.com/tutorials/sending-emails-in-python-with-smtp--cms-29975"
   ]
  },
  {
   "cell_type": "markdown",
   "metadata": {},
   "source": [
    "***\n",
    "## **1.7 LexInit**"
   ]
  },
  {
   "cell_type": "code",
   "execution_count": null,
   "metadata": {},
   "outputs": [],
   "source": [
    "def LexInit():\n",
    "    try:\n",
    "        MailboxRetrieve()\n",
    "    except ValueError:\n",
    "        print(\"MailboxRetrieve fail.\")\n",
    "    \n",
    "    try:\n",
    "        MLPrediction()\n",
    "    except ValueError:\n",
    "        print(\"MLPrediction fail.\")\n",
    "        \n",
    "    try:\n",
    "        EmailSender()\n",
    "    except ValueError:\n",
    "        print(\"EmailSender fail.\")\n",
    "        \n",
    "    return(print('Cycle completed. Sleeping 60 seconds.'))"
   ]
  },
  {
   "cell_type": "markdown",
   "metadata": {},
   "source": [
    "***\n",
    "## **1.8 LexProcess**"
   ]
  },
  {
   "cell_type": "code",
   "execution_count": null,
   "metadata": {},
   "outputs": [],
   "source": [
    "def LexProcess():\n",
    "    import time\n",
    "    x=1\n",
    "    while x == 1:\n",
    "        LexInit()\n",
    "        time.sleep(60)"
   ]
  },
  {
   "cell_type": "raw",
   "metadata": {},
   "source": [
    "LexProcess()"
   ]
  },
  {
   "cell_type": "code",
   "execution_count": null,
   "metadata": {},
   "outputs": [],
   "source": []
  }
 ],
 "metadata": {
  "kernelspec": {
   "display_name": "Python 3",
   "language": "python",
   "name": "python3"
  },
  "language_info": {
   "codemirror_mode": {
    "name": "ipython",
    "version": 3
   },
   "file_extension": ".py",
   "mimetype": "text/x-python",
   "name": "python",
   "nbconvert_exporter": "python",
   "pygments_lexer": "ipython3",
   "version": "3.6.6"
  }
 },
 "nbformat": 4,
 "nbformat_minor": 2
}
