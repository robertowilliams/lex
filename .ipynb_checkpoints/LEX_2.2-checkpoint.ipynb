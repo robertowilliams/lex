{
 "cells": [
  {
   "cell_type": "markdown",
   "metadata": {},
   "source": [
    "# **LEX**\n",
    "## **Version: 2.2**"
   ]
  },
  {
   "cell_type": "markdown",
   "metadata": {},
   "source": [
    "# **FUNCTIONS**"
   ]
  },
  {
   "cell_type": "markdown",
   "metadata": {},
   "source": [
    "## 1. Common Functions"
   ]
  },
  {
   "cell_type": "markdown",
   "metadata": {},
   "source": [
    "### 1.1 Time Stamp"
   ]
  },
  {
   "cell_type": "code",
   "execution_count": 1,
   "metadata": {},
   "outputs": [],
   "source": [
    "def ts():\n",
    "    import time\n",
    "    import datetime\n",
    "    timestamp = datetime.datetime.fromtimestamp(time.time()).strftime('%Y-%m-%d %H:%M:%S')\n",
    "    print (timestamp)\n",
    "# https://stackoverflow.com/questions/13890935/does-pythons-time-time-return-the-local-or-utc-timestamp"
   ]
  },
  {
   "cell_type": "code",
   "execution_count": null,
   "metadata": {},
   "outputs": [],
   "source": []
  },
  {
   "cell_type": "markdown",
   "metadata": {},
   "source": [
    "### 1.2 Ignore Python Absolecense Warnings"
   ]
  },
  {
   "cell_type": "code",
   "execution_count": 2,
   "metadata": {},
   "outputs": [],
   "source": [
    "def ignoreWarnings():\n",
    "    import sys\n",
    "    if not sys.warnoptions:\n",
    "        import warnings\n",
    "        warnings.simplefilter(\"ignore\")\n",
    "    \n",
    "    #https://docs.python.org/3/library/warnings.html"
   ]
  },
  {
   "cell_type": "code",
   "execution_count": 15,
   "metadata": {},
   "outputs": [],
   "source": [
    "ignoreWarnings()"
   ]
  },
  {
   "cell_type": "markdown",
   "metadata": {},
   "source": [
    "***\n",
    "## 2. Core Functions"
   ]
  },
  {
   "cell_type": "markdown",
   "metadata": {},
   "source": [
    "### **2.1 POP SERVER**"
   ]
  },
  {
   "cell_type": "code",
   "execution_count": 19,
   "metadata": {},
   "outputs": [],
   "source": [
    "def POPserver():\n",
    "    global pop_server, user, pw\n",
    "    pop_server = 'pop.secureserver.net'\n",
    "    user = 'lex@monidra.com.br'\n",
    "    pw = '123456'\n",
    "    return()"
   ]
  },
  {
   "cell_type": "code",
   "execution_count": 20,
   "metadata": {},
   "outputs": [
    {
     "data": {
      "text/plain": [
       "()"
      ]
     },
     "execution_count": 20,
     "metadata": {},
     "output_type": "execute_result"
    }
   ],
   "source": [
    "POPserver()"
   ]
  },
  {
   "cell_type": "markdown",
   "metadata": {},
   "source": [
    "### 2.2 SMTP SERVER"
   ]
  },
  {
   "cell_type": "code",
   "execution_count": 21,
   "metadata": {},
   "outputs": [],
   "source": [
    "def SMTPserver():\n",
    "    global smtp_server, user, pw\n",
    "    smtp_server = 'smtpout.secureserver.net'\n",
    "    user = 'lex@monidra.com.br'\n",
    "    pw = '123456'\n",
    "    return()"
   ]
  },
  {
   "cell_type": "code",
   "execution_count": 22,
   "metadata": {},
   "outputs": [
    {
     "data": {
      "text/plain": [
       "()"
      ]
     },
     "execution_count": 22,
     "metadata": {},
     "output_type": "execute_result"
    }
   ],
   "source": [
    "SMTPserver()"
   ]
  },
  {
   "cell_type": "markdown",
   "metadata": {},
   "source": [
    "***\n",
    "### **2.1 MailBoxCleanup**"
   ]
  },
  {
   "cell_type": "code",
   "execution_count": 23,
   "metadata": {},
   "outputs": [],
   "source": [
    "def MailboxCleanup():\n",
    "    import poplib\n",
    "    from poplib  import POP3\n",
    "    import sys\n",
    "    POPserver()\n",
    "    # POP3 login:\n",
    "    try:\n",
    "        popObject = poplib.POP3(pop_server)\n",
    "        popObject.user(user)\n",
    "        popObject.pass_(pw)\n",
    "    except:\n",
    "        return(print('Failed to connect to server.'))\n",
    "    numMessages = len(popObject.list()[1])\n",
    "    numOfMessagesDel= len(popObject.list()[1])\n",
    "    if numMessages == 0:\n",
    "        return(print('There is no messages in the server: pop.secureserver.net'))\n",
    "    else:\n",
    "        while numMessages > 0:\n",
    "            for i in range(numMessages):\n",
    "                popObject.dele(i+1)\n",
    "                numMessages = len(popObject.list()[1])\n",
    "        popObject.quit()\n",
    "        return(print('MailBoxCleanup executed. Was deleted', numOfMessagesDel, 'emails'))\n",
    "# Based on the code from https://shami.blog/2010/04/delete-all-messages-from-a-pop3-account/"
   ]
  },
  {
   "cell_type": "markdown",
   "metadata": {},
   "source": [
    "***\n",
    "### **2.2 MailboxRetrieve**"
   ]
  },
  {
   "cell_type": "code",
   "execution_count": 24,
   "metadata": {},
   "outputs": [],
   "source": [
    "def MailboxRetrieve(mailbox_lim = 2, secSubjectKey= 'Lex'):\n",
    "    \n",
    "    # Importing the necessary modules.\n",
    "    import poplib\n",
    "    from poplib  import POP3\n",
    "    import sys\n",
    "    import re\n",
    "    import pandas as pd\n",
    "    # Defining global variables\n",
    "    global df_buffer\n",
    "    \n",
    "    # Login POP Server\n",
    "    POPserver()\n",
    "    popObject = poplib.POP3(pop_server)\n",
    "    popObject.user(user)\n",
    "    popObject.pass_(pw)\n",
    "    popObject.list()\n",
    "    \n",
    "    # RegEx Patterns\n",
    "    TS = \"[0-9]{1,2}\\s[a-zA-Z]{3}\\s[0-9]{4}\\s[0-9]{1,2}:[0-9]{1,2}:[0-9]{1,2}\"\n",
    "    SUBJECT = \"Subject: (?P<subject>[a-zA-Z]{3})\"\n",
    "    SENDER = \"envelope-sender <(?P<sender>.+@.+.)>\\)\"\n",
    "    SUMMARY = \"\\(LEX\\)(?P<Summary>.+)\\(/LEX\\)\"\n",
    "    \n",
    "    # Creating the buffer dataframe to store the email data extracted.\n",
    "    try: \n",
    "        type(df_buffer)\n",
    "    except:\n",
    "        col=['TS', 'Sender', 'Subject', 'Summary', 'Label']\n",
    "        lines=range(0,3)\n",
    "        df_buffer = pd.DataFrame(columns=col, index=lines)\n",
    "        # print(df_buffer)\n",
    "    \n",
    "    # Getting mailbox info\n",
    "    numMessages = len(popObject.list()[1])\n",
    "\n",
    "    #return(numMessages)\n",
    "    if (numMessages == 0):\n",
    "        ErrorMessage = 'No Summaries for Prediction at the time.'\n",
    "        return(print(ErrorMessage))\n",
    "    \n",
    "    elif (numMessages >= mailbox_lim):\n",
    "        MailboxCleanup()\n",
    "        ErrorMessage = 'Mailbox was full. MailBoxCleanup executed.'\n",
    "        return(print(ErrorMessage, '\\n', 'Buffer of Messages:', df_buffer))\n",
    "    \n",
    "    else :\n",
    "        # Retrieving the messages\n",
    "        message_list = popObject.retr(1)[1]\n",
    "        # Transforming in String\n",
    "        message_str = ''.join(map(str, message_list))\n",
    "        # Extract content using RegEx to populate the four columns\n",
    "        Ts = re.findall(TS, message_str)\n",
    "        Ts = Ts[0]\n",
    "\n",
    "        try:\n",
    "            Subject = re.findall(SUBJECT, message_str)\n",
    "            Subject = Subject[0]\n",
    "            if Subject != 'Lex':\n",
    "                ErrorMessage = 'E-mail enviado com Assunto errado.'\n",
    "                EmailError(message = ErrorMessage)\n",
    "                MailboxCleanup()\n",
    "                return(print(ErrorMessage))\n",
    "            \n",
    "        except:\n",
    "            MailboxCleanup()\n",
    "            ErrorMessage = 'E-mail enviado com Assunto errado.'\n",
    "            return(print(ErrorMessage))\n",
    "        \n",
    "        Sender = re.findall(SENDER, message_str)\n",
    "        Sender = Sender[0]\n",
    "        \n",
    "        try:\n",
    "            Summary = re.findall(SUMMARY, message_str)\n",
    "            Summary = Summary[0]\n",
    "        except:\n",
    "            MailboxCleanup()\n",
    "            ErrorMessage = 'Corpo de email com formato errado.'\n",
    "            EmailError(message = ErrorMessage)\n",
    "            return(print(ErrorMessage))\n",
    "        \n",
    "        # Writing into the dataframe\n",
    "        row = 0\n",
    "        while row < numMessages:\n",
    "            df_buffer.loc[row, 'TS'] = Ts\n",
    "            df_buffer.loc[row, 'Sender'] = Sender\n",
    "            df_buffer.loc[row, 'Subject'] = Subject\n",
    "            df_buffer.loc[row, 'Summary'] = Summary\n",
    "            row = row + 1\n",
    "        # Deleting mailbox.\n",
    "        MailboxCleanup()\n",
    "        return(print('Prediction received', df_buffer))\n"
   ]
  },
  {
   "cell_type": "code",
   "execution_count": 33,
   "metadata": {
    "scrolled": true
   },
   "outputs": [
    {
     "name": "stdout",
     "output_type": "stream",
     "text": [
      "nan\n",
      "EmailSender terminated\n",
      "MailBoxCleanup executed. Was deleted 1 emails\n"
     ]
    },
    {
     "data": {
      "text/plain": [
       "'E-mail enviado com Assunto errado.'"
      ]
     },
     "execution_count": 33,
     "metadata": {},
     "output_type": "execute_result"
    }
   ],
   "source": [
    "MailboxRetrieve()"
   ]
  },
  {
   "cell_type": "markdown",
   "metadata": {},
   "source": [
    "***\n",
    "### **2.3 ML Pre Processing**"
   ]
  },
  {
   "cell_type": "code",
   "execution_count": 7,
   "metadata": {},
   "outputs": [],
   "source": [
    "def MLPreProcessing(file_name):\n",
    "    # Import library\n",
    "    import os\n",
    "    import pandas as pd\n",
    "    import numpy as np\n",
    "    import csv\n",
    "    # Reading the CSV file into 'data' variable.\n",
    "    try:\n",
    "        df = pd.read_csv(file_name)\n",
    "        df.drop(['assunto', 'relator', 'comarca', 'org_julgador'], axis=1, inplace=True)\n",
    "        df_pred = df.rename(columns={\"ementa\": \"data\", \"Veredito\": \"label\"})\n",
    "        df_pred['label'] = df_pred['label'].map({'P':'1','N':'0','G':'2'})\n",
    "        df_pred.to_csv('Lex_File.csv', index = False)\n",
    "    except:\n",
    "        listDir = os.listdir()\n",
    "        return(print('Process Fail, check if the file is listed below:', '\\n', listDir))\n",
    "    return(print('File exported with success!'))"
   ]
  },
  {
   "cell_type": "markdown",
   "metadata": {},
   "source": [
    "***\n",
    "### **2.4 ML Prediction**"
   ]
  },
  {
   "cell_type": "code",
   "execution_count": 8,
   "metadata": {},
   "outputs": [],
   "source": [
    "def MLPrediction(file_name='Lex_File.csv'):\n",
    "    # Importing necesary modules\n",
    "    import os\n",
    "    import pandas as pd\n",
    "    import numpy as np\n",
    "    import csv\n",
    "    from sklearn.feature_extraction.text import CountVectorizer\n",
    "    from sklearn.model_selection import train_test_split\n",
    "    from sklearn.naive_bayes import MultinomialNB\n",
    "    import csv\n",
    "    # Global variables\n",
    "    global train_score, test_score, result\n",
    "    # Reading the CSV file into 'data' variable.\n",
    "    try:\n",
    "        df_pred = pd.read_csv(file_name, index_col=None)\n",
    "    except:\n",
    "        listDir = os.listdir()\n",
    "        return(print('Process Fail, check if the file is listed below:', '\\n', listDir))\n",
    "    # instancing\n",
    "    count= CountVectorizer(decode_error='ignore')\n",
    "    nb = MultinomialNB()\n",
    "    try:\n",
    "        # Inserting the df.data into X variable.\n",
    "        X = count.fit_transform(df_pred['data'])\n",
    "        # Inserting the df.label into variable 'Y' as a matrix.\n",
    "        Y = df_pred['label'].as_matrix()\n",
    "        # Split up the data\n",
    "        Xtrain, Xtest, Ytrain, Ytest = train_test_split(X, Y, test_size=0.10, shuffle = True)\n",
    "        # Training\n",
    "        nb.fit(Xtrain, Ytrain)\n",
    "        # Scoring\n",
    "        train_score = nb.score(Xtrain, Ytrain)\n",
    "        test_score = nb.score(Xtest, Ytest)\n",
    "        text_to_predict = [df_buffer.iloc[0,3]]\n",
    "        predict_vct = count.transform(text_to_predict)\n",
    "        result = nb.predict(predict_vct)\n",
    "        df_buffer.iloc[0,4] = result[0]\n",
    "        return(result[0])\n",
    "    except:\n",
    "        return(print('MLPrediction termianted.'))"
   ]
  },
  {
   "cell_type": "markdown",
   "metadata": {},
   "source": [
    "***\n",
    "### **2.5 dfCleanup**"
   ]
  },
  {
   "cell_type": "code",
   "execution_count": 26,
   "metadata": {},
   "outputs": [],
   "source": [
    "def dfCleanup():\n",
    "    import time\n",
    "    df_buffer.loc[:,'TS'] = ''\n",
    "    df_buffer.loc[:,'Sender'] = ''\n",
    "    df_buffer.loc[:,'Subject'] = ''\n",
    "    df_buffer.loc[:,'Summary'] = ''\n",
    "    df_buffer.loc[:,'Label'] = ''\n",
    "    time.sleep(15)\n",
    "    return()"
   ]
  },
  {
   "cell_type": "markdown",
   "metadata": {},
   "source": [
    "***\n",
    "### **2.6 EmailResponse**"
   ]
  },
  {
   "cell_type": "code",
   "execution_count": 27,
   "metadata": {},
   "outputs": [],
   "source": [
    "def EmailResponse():\n",
    "    global message, destination\n",
    "    \n",
    "    # Defining the message body.\n",
    "    if df_buffer.iloc[0,4] == 0:\n",
    "        message = 'Petição não provida'\n",
    "    elif df_buffer.iloc[0,4] == 1:\n",
    "        message = 'Petição provida parcialmente'\n",
    "    elif df_buffer.iloc[0,4] == 2:\n",
    "        message = 'Petição provida parcialmente' \n",
    "    else :\n",
    "        message = 'Consulta sem label'\n",
    "    \n",
    "    # Definition of destination address.\n",
    "    destination = df_buffer.iloc[0,1]\n",
    "    \n",
    "    return(message, destination)"
   ]
  },
  {
   "cell_type": "markdown",
   "metadata": {},
   "source": [
    "***\n",
    "### **2.7 EmailSender**"
   ]
  },
  {
   "cell_type": "code",
   "execution_count": 28,
   "metadata": {},
   "outputs": [],
   "source": [
    "def EmailSender():      \n",
    "    EmailResponse()\n",
    "    # importing necessary packages\n",
    "    from email.mime.multipart import MIMEMultipart\n",
    "    from email.mime.text import MIMEText\n",
    "    import smtplib\n",
    "\n",
    "    # create message object instance\n",
    "    msg = MIMEMultipart()\n",
    "    \n",
    "    # setup the parameters of the message\n",
    "    msg['From'] = user\n",
    "    msg['To'] = destination\n",
    "    msg['Subject'] = \"Lex - Reposta à sua requisição\"\n",
    "    \n",
    "    # add in the message body\n",
    "    msg.attach(MIMEText(message, 'plain'))\n",
    "    #create server\n",
    "    server = smtplib.SMTP(smtp_server)\n",
    "\n",
    "    # Login Credentials for sending the mail \n",
    "    try:\n",
    "        server.login(msg['From'], pw) \n",
    "        # send the message via the server.\n",
    "        server.sendmail(msg['From'], msg['To'], msg.as_string())\n",
    "        server.quit()\n",
    "        dfCleanup()\n",
    "        return(print(\"successfully sent email to %s:\" % (msg['To'])))\n",
    "    except:\n",
    "        return(print('EmailSender terminated'))\n",
    "    # Reference: https://code.tutsplus.com/tutorials/sending-emails-in-python-with-smtp--cms-29975"
   ]
  },
  {
   "cell_type": "markdown",
   "metadata": {},
   "source": [
    "### 2.8 EmailError"
   ]
  },
  {
   "cell_type": "code",
   "execution_count": 31,
   "metadata": {},
   "outputs": [],
   "source": [
    "def EmailError(message):      \n",
    "    # importing necessary packages\n",
    "    from email.mime.multipart import MIMEMultipart\n",
    "    from email.mime.text import MIMEText\n",
    "    import smtplib\n",
    "    \n",
    "    # Definition of destination address.\n",
    "    destination = df_buffer.iloc[0,1]\n",
    "    print(destination)\n",
    "    # create message object instance\n",
    "    msg = MIMEMultipart()\n",
    "    \n",
    "    # setup the parameters of the message\n",
    "    msg['From'] = user\n",
    "    msg['To'] = destination\n",
    "    msg['Subject'] = \"Lex - Reposta à sua requisição\"\n",
    "    \n",
    "    # add in the message body\n",
    "    msg.attach(MIMEText(message, 'plain'))\n",
    "    #create server\n",
    "    server = smtplib.SMTP(smtp_server)\n",
    "\n",
    "    # Login Credentials for sending the mail \n",
    "    try:\n",
    "        server.login(msg['From'], pw) \n",
    "        # send the message via the server.\n",
    "        server.sendmail(msg['From'], msg['To'], msg.as_string())\n",
    "        server.quit()\n",
    "        dfCleanup()\n",
    "        return(print(\"successfully sent email to %s:\" % (msg['To'])))\n",
    "    except:\n",
    "        return(print('EmailSender terminated'))\n",
    "    # Reference: https://code.tutsplus.com/tutorials/sending-emails-in-python-with-smtp--cms-29975"
   ]
  },
  {
   "cell_type": "code",
   "execution_count": 32,
   "metadata": {},
   "outputs": [
    {
     "name": "stdout",
     "output_type": "stream",
     "text": [
      "nan\n",
      "EmailSender terminated\n"
     ]
    }
   ],
   "source": [
    "EmailError('E-mail enviado com Assunto errado.')"
   ]
  },
  {
   "cell_type": "markdown",
   "metadata": {},
   "source": [
    "***\n",
    "## 3. Systemic\n",
    "### **3.1 LexInit**"
   ]
  },
  {
   "cell_type": "code",
   "execution_count": null,
   "metadata": {},
   "outputs": [],
   "source": [
    "def LexInit():\n",
    "    import time\n",
    "    ignoreWarnings()\n",
    "    POPserver()\n",
    "    SMTPserver()\n",
    "    \n",
    "    try:\n",
    "        MailboxRetrieve()\n",
    "    except ValueError:\n",
    "        print(\"MailboxRetrieve not executed.\")\n",
    "    try:\n",
    "        MLPrediction()\n",
    "    except ValueError:\n",
    "        print(\"MLPrediction not executed.\")\n",
    "    try:\n",
    "        EmailSender()\n",
    "    except ValueError:\n",
    "        print(\"EmailSender not executed.\")\n",
    "\n",
    "#https://stackoverflow.com/questions/49580313/create-a-log-file"
   ]
  },
  {
   "cell_type": "markdown",
   "metadata": {},
   "source": [
    "***\n",
    "\n",
    "### **3.2 LexProcess**"
   ]
  },
  {
   "cell_type": "code",
   "execution_count": null,
   "metadata": {},
   "outputs": [],
   "source": [
    "def LexProcess(seconds):\n",
    "    print('Initiating Lex')\n",
    "    import time\n",
    "    while True:\n",
    "        LexInit()\n",
    "        print('Cycle complete. Sleeping', seconds, 'seconds')\n",
    "        print(ts()), print('-------------------------------------------')\n",
    "        time.sleep(seconds)"
   ]
  },
  {
   "cell_type": "code",
   "execution_count": null,
   "metadata": {},
   "outputs": [],
   "source": [
    "LexProcess(5)"
   ]
  },
  {
   "cell_type": "code",
   "execution_count": null,
   "metadata": {},
   "outputs": [],
   "source": []
  }
 ],
 "metadata": {
  "kernelspec": {
   "display_name": "Python 3",
   "language": "python",
   "name": "python3"
  },
  "language_info": {
   "codemirror_mode": {
    "name": "ipython",
    "version": 3
   },
   "file_extension": ".py",
   "mimetype": "text/x-python",
   "name": "python",
   "nbconvert_exporter": "python",
   "pygments_lexer": "ipython3",
   "version": "3.6.6"
  }
 },
 "nbformat": 4,
 "nbformat_minor": 2
}
