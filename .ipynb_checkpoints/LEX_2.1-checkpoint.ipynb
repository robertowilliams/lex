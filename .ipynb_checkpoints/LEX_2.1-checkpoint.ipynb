{
 "cells": [
  {
   "cell_type": "markdown",
   "metadata": {},
   "source": [
    "# **LEX**\n",
    "## **Version: 2.1**"
   ]
  },
  {
   "cell_type": "markdown",
   "metadata": {},
   "source": [
    "## **1. FUNCTIONS**"
   ]
  },
  {
   "cell_type": "markdown",
   "metadata": {},
   "source": [
    "### **1.1 MailBoxCleanup**"
   ]
  },
  {
   "cell_type": "code",
   "execution_count": 18,
   "metadata": {},
   "outputs": [],
   "source": [
    "# DELETING ALL THE MESSAGES FROM THE MAILBOX\n",
    "# VERSION 1.0 - Initial version.\n",
    "\n",
    "def MailboxCleanup():\n",
    "    import poplib\n",
    "    from poplib  import POP3\n",
    "    import sys\n",
    "    \n",
    "    # POP3 account details:\n",
    "    try:\n",
    "        pop_server = poplib.POP3('pop.secureserver.net')\n",
    "        pop_server.user('lex@monidra.com.br')\n",
    "        pop_server.pass_('123456')\n",
    "    except:\n",
    "        print ('Failed to connect to server.')\n",
    "        sys.exit(1)\n",
    "    \n",
    "    numMessages = len(pop_server.list()[1])\n",
    "    numOfMessagesDel= len(pop_server.list()[1])\n",
    "    \n",
    "    if numMessages == 0:\n",
    "        return(print('There is no messages in the server: pop.secureserver.net'))\n",
    "    else:\n",
    "        while numMessages > 0:\n",
    "            for i in range(numMessages):\n",
    "                pop_server.dele(i+1)\n",
    "                numMessages = len(pop_server.list()[1])\n",
    "        pop_server.quit()\n",
    "        \n",
    "        return(print('Finished to delete', numOfMessagesDel, 'emails'))\n",
    "\n",
    "# Based on the code from https://shami.blog/2010/04/delete-all-messages-from-a-pop3-account/"
   ]
  },
  {
   "cell_type": "markdown",
   "metadata": {},
   "source": [
    "#### **Testing**"
   ]
  },
  {
   "cell_type": "code",
   "execution_count": null,
   "metadata": {},
   "outputs": [],
   "source": [
    "MailboxCleanup()"
   ]
  },
  {
   "cell_type": "markdown",
   "metadata": {},
   "source": [
    "### **1.2 MailboxRetrieve**"
   ]
  },
  {
   "cell_type": "code",
   "execution_count": 19,
   "metadata": {},
   "outputs": [],
   "source": [
    "def MailboxRetrieve(mailbox_lim=2, secSubjectKey= 'Lex', log=False):\n",
    "    # Importing the necessary modules.\n",
    "    import poplib\n",
    "    from poplib  import POP3\n",
    "    import sys\n",
    "    import re\n",
    "    import pandas as pd\n",
    "    \n",
    "    # Defining global variables\n",
    "    global df_buffer\n",
    "    \n",
    "    # Login POP Server\n",
    "    pop_server = poplib.POP3('pop.secureserver.net')\n",
    "    pop_server.user('lex@monidra.com.br')\n",
    "    pop_server.pass_('123456')\n",
    "    pop_server.list()\n",
    "\n",
    "    # RegEx Patterns\n",
    "    TS = \"[0-9]{1,2}\\s[a-zA-Z]{3}\\s[0-9]{4}\\s[0-9]{1,2}:[0-9]{1,2}:[0-9]{1,2}\"\n",
    "    SUBJECT = \"Subject: (?P<subject>[a-zA-Z]{3})\"\n",
    "    SENDER = \"envelope-sender <(?P<sender>.+@.+.)>\\)\"\n",
    "    SUMMARY = \"\\(LEX\\)(?P<Summary>.+)\\(/LEX\\)\"\n",
    "    \n",
    "    # Creating the buffer dataframe to store the email data extracted.\n",
    "    \n",
    "    try: \n",
    "        type(df_buffer)\n",
    "    except:\n",
    "        col=['TS', 'Sender', 'Subject', 'Summary', 'Label']\n",
    "        lines=range(0,3)\n",
    "        df_buffer = pd.DataFrame(columns=col, index=lines)\n",
    "        # print(df_buffer)\n",
    "    \n",
    "    # Getting mailbox info\n",
    "    numMessages = len(pop_server.list()[1])\n",
    "    #return(numMessages)\n",
    "    \n",
    "    if (numMessages == 0):\n",
    "        alert1 = 'No Summaries for Prediction at the time.'\n",
    "        alert2 = 'Buffer of Messages:'\n",
    "        print(alert1, '\\n')\n",
    "        print(alert2)\n",
    "        return(df_buffer)\n",
    "        \n",
    "    elif (numMessages >= mailbox_lim):\n",
    "        MailboxCleanup()\n",
    "        alert3 = 'Mailbox was full. Clean-up executed.'\n",
    "        alert2 = 'Buffer of Messages:'\n",
    "        return(alert3, alert2, df_buffer)\n",
    "        \n",
    "    else:\n",
    "        \n",
    "        # Retrieving the messages\n",
    "        message_list = pop_server.retr(1)[1]\n",
    "        #return(print(message_list))\n",
    "        \n",
    "        # Transforming in String\n",
    "        message_str = ''.join(map(str, message_list))\n",
    "        #return(print(message_str))\n",
    "    \n",
    "        # Extract content using RegEx to populate the four columns\n",
    "        Ts = re.findall(TS, message_str)\n",
    "        #return(print(Ts))\n",
    "        Ts = Ts[0]\n",
    "        #return(print(Ts))\n",
    "        \n",
    "        try:\n",
    "            Subject = re.findall(SUBJECT, message_str)\n",
    "            #return(print(Subject))\n",
    "            Subject = Subject[0]\n",
    "            #return(print(Subject))\n",
    "        except:\n",
    "            MailboxCleanup()\n",
    "            return('E-mail without Lex key in the Subject. Mailbox Clean-up executed.')\n",
    "            \n",
    "        Sender = re.findall(SENDER, message_str)\n",
    "        ## return(print(Sender))\n",
    "        Sender = Sender[0]\n",
    "    \n",
    "        try:\n",
    "            Summary = re.findall(SUMMARY, message_str)\n",
    "            # return(Summary)\n",
    "            Summary = Summary[0]\n",
    "        except:\n",
    "            MailboxCleanup()\n",
    "            return('E-mail without Lex markers (LEX) and (/LEX). Mailbox Clean-up executed.')\n",
    "            \n",
    "        # Writing into the dataframe\n",
    "        row = 0\n",
    "        while row < numMessages:\n",
    "            df_buffer.loc[row, 'TS'] = Ts\n",
    "            df_buffer.loc[row, 'Sender'] = Sender\n",
    "            df_buffer.loc[row, 'Subject'] = Subject\n",
    "            df_buffer.loc[row, 'Summary'] = Summary\n",
    "            row = row + 1\n",
    "        # Deleting mailbox.\n",
    "        MailboxCleanup()\n",
    "        \n",
    "        if log ==True: \n",
    "            return(print('\\n'), print(Ts, Sender, Summary, df_buffer))\n",
    "        return(df_buffer)"
   ]
  },
  {
   "cell_type": "code",
   "execution_count": 3,
   "metadata": {},
   "outputs": [
    {
     "name": "stdout",
     "output_type": "stream",
     "text": [
      "Finished to delete 1 emails\n"
     ]
    },
    {
     "data": {
      "text/html": [
       "<div>\n",
       "<style scoped>\n",
       "    .dataframe tbody tr th:only-of-type {\n",
       "        vertical-align: middle;\n",
       "    }\n",
       "\n",
       "    .dataframe tbody tr th {\n",
       "        vertical-align: top;\n",
       "    }\n",
       "\n",
       "    .dataframe thead th {\n",
       "        text-align: right;\n",
       "    }\n",
       "</style>\n",
       "<table border=\"1\" class=\"dataframe\">\n",
       "  <thead>\n",
       "    <tr style=\"text-align: right;\">\n",
       "      <th></th>\n",
       "      <th>TS</th>\n",
       "      <th>Sender</th>\n",
       "      <th>Subject</th>\n",
       "      <th>Summary</th>\n",
       "      <th>Label</th>\n",
       "    </tr>\n",
       "  </thead>\n",
       "  <tbody>\n",
       "    <tr>\n",
       "      <th>0</th>\n",
       "      <td>3 Nov 2018 02:37:11</td>\n",
       "      <td>log@monidra.com.br</td>\n",
       "      <td>Lex</td>\n",
       "      <td>plano de sa=C3=BAde =E2=80=93 revis=C3=A3o da...</td>\n",
       "      <td>NaN</td>\n",
       "    </tr>\n",
       "    <tr>\n",
       "      <th>1</th>\n",
       "      <td>NaN</td>\n",
       "      <td>NaN</td>\n",
       "      <td>NaN</td>\n",
       "      <td>NaN</td>\n",
       "      <td>NaN</td>\n",
       "    </tr>\n",
       "    <tr>\n",
       "      <th>2</th>\n",
       "      <td>NaN</td>\n",
       "      <td>NaN</td>\n",
       "      <td>NaN</td>\n",
       "      <td>NaN</td>\n",
       "      <td>NaN</td>\n",
       "    </tr>\n",
       "  </tbody>\n",
       "</table>\n",
       "</div>"
      ],
      "text/plain": [
       "                    TS              Sender Subject  \\\n",
       "0  3 Nov 2018 02:37:11  log@monidra.com.br     Lex   \n",
       "1                  NaN                 NaN     NaN   \n",
       "2                  NaN                 NaN     NaN   \n",
       "\n",
       "                                             Summary Label  \n",
       "0   plano de sa=C3=BAde =E2=80=93 revis=C3=A3o da...   NaN  \n",
       "1                                                NaN   NaN  \n",
       "2                                                NaN   NaN  "
      ]
     },
     "execution_count": 3,
     "metadata": {},
     "output_type": "execute_result"
    }
   ],
   "source": [
    "MailboxRetrieve()"
   ]
  },
  {
   "cell_type": "code",
   "execution_count": null,
   "metadata": {
    "scrolled": true
   },
   "outputs": [],
   "source": []
  },
  {
   "cell_type": "code",
   "execution_count": 6,
   "metadata": {},
   "outputs": [
    {
     "data": {
      "text/plain": [
       "'log@monidra.com.br'"
      ]
     },
     "execution_count": 6,
     "metadata": {},
     "output_type": "execute_result"
    }
   ],
   "source": [
    "df_buffer.iloc[0,1]"
   ]
  },
  {
   "cell_type": "code",
   "execution_count": 7,
   "metadata": {},
   "outputs": [
    {
     "data": {
      "text/plain": [
       "'Lex'"
      ]
     },
     "execution_count": 7,
     "metadata": {},
     "output_type": "execute_result"
    }
   ],
   "source": [
    "df_buffer.iloc[0,2]"
   ]
  },
  {
   "cell_type": "code",
   "execution_count": 8,
   "metadata": {},
   "outputs": [
    {
     "data": {
      "text/plain": [
       "\" plano de sa=C3=BAde =E2=80=93 revis=C3=A3o da tabela de valores='b' de contribui=C3=A7=C3=A3o ao plano de sa=C3=BAde =E2=80=93 revis=C3=A3o de='b' valores abusiva e excessiva =E2=80=93 determinada a redu=C3=A7=C3=A3o de v='b'alores para compatibiliza=C3=A7=C3=A3o de pagamentos ao plano de sa=C3=BAde='b'. \""
      ]
     },
     "execution_count": 8,
     "metadata": {},
     "output_type": "execute_result"
    }
   ],
   "source": [
    "df_buffer.iloc[0,3]"
   ]
  },
  {
   "cell_type": "code",
   "execution_count": 9,
   "metadata": {},
   "outputs": [
    {
     "data": {
      "text/plain": [
       "nan"
      ]
     },
     "execution_count": 9,
     "metadata": {},
     "output_type": "execute_result"
    }
   ],
   "source": [
    "df_buffer.iloc[0,4]"
   ]
  },
  {
   "cell_type": "markdown",
   "metadata": {},
   "source": [
    "***\n",
    "## **ML Pre Processing**"
   ]
  },
  {
   "cell_type": "raw",
   "metadata": {},
   "source": [
    "def MLPreProcessing(file_name):\n",
    "    # Import library\n",
    "    import os\n",
    "    import pandas as pd\n",
    "    import numpy as np\n",
    "    import csv\n",
    "    # Reading the CSV file into 'data' variable.\n",
    "    try:\n",
    "        df = pd.read_csv(file_name)\n",
    "        df.drop(['assunto', 'relator', 'comarca', 'org_julgador'], axis=1, inplace=True)\n",
    "        df_pred = df.rename(columns={\"ementa\": \"data\", \"Veredito\": \"label\"})\n",
    "        df_pred['label'] = df_pred['label'].map({'P':'1','N':'0','G':'2'})\n",
    "        df_pred.to_csv('Lex_File.csv', index = False)\n",
    "    except:\n",
    "        listDir = os.listdir()\n",
    "        return(print('Process Fail, check if the file is listed below:'), print('\\n', listDir))\n",
    "    return('File exported with success!')"
   ]
  },
  {
   "cell_type": "raw",
   "metadata": {},
   "source": [
    "MLPreProcessing('LEX_OCT_22_2018.csv')"
   ]
  },
  {
   "cell_type": "markdown",
   "metadata": {},
   "source": [
    "***\n",
    "## **ML Prediction**"
   ]
  },
  {
   "cell_type": "raw",
   "metadata": {},
   "source": [
    "def MLPrediction(text_to_predict, file_name):\n",
    "    # Importing necesary modules\n",
    "    import os\n",
    "    import pandas as pd\n",
    "    import numpy as np\n",
    "    import csv\n",
    "    from sklearn.feature_extraction.text import CountVectorizer\n",
    "    from sklearn.model_selection import train_test_split\n",
    "    from sklearn.naive_bayes import MultinomialNB\n",
    "    import csv\n",
    "    \n",
    "    # Reading the CSV file into 'data' variable.\n",
    "    try:\n",
    "        df_pred = pd.read_csv(file_name, index_col=None)\n",
    "    except:\n",
    "        listDir = os.listdir()\n",
    "        return(print('Process Fail, check if the file is listed below:'), print('\\n', listDir))\n",
    "    #return('File exported with success!')\n",
    "    # Global variables\n",
    "    global train_score, test_score, result\n",
    "\n",
    "    # instancing\n",
    "    count= CountVectorizer(decode_error='ignore')\n",
    "    nb = MultinomialNB()\n",
    "    # Inserting the df.data into X variable.\n",
    "    X = count.fit_transform(df_pred['data'])\n",
    "    # Inserting the df.label into variable 'Y' as a matrix.\n",
    "    Y = df_pred['label'].as_matrix()\n",
    "    # Split up the data\n",
    "    Xtrain, Xtest, Ytrain, Ytest = train_test_split(X, Y, test_size=0.10, shuffle = True)\n",
    "    # Training\n",
    "    nb.fit(Xtrain, Ytrain)\n",
    "    # Scoring\n",
    "    train_score = nb.score(Xtrain, Ytrain)\n",
    "    test_score = nb.score(Xtest, Ytest)\n",
    "    text_to_predict = [text_to_predict]\n",
    "    predict_vct = count.transform(text_to_predict)\n",
    "    result = nb.predict(predict_vct)\n",
    "    return(result[0])\n",
    "    # print('Predicted category: %d' % int(category[0])) "
   ]
  },
  {
   "cell_type": "code",
   "execution_count": null,
   "metadata": {},
   "outputs": [],
   "source": [
    "Prediction2"
   ]
  },
  {
   "cell_type": "code",
   "execution_count": 13,
   "metadata": {},
   "outputs": [],
   "source": [
    "def MLPrediction2(file_name='Lex_File.csv'):\n",
    "    # Importing necesary modules\n",
    "    import os\n",
    "    import pandas as pd\n",
    "    import numpy as np\n",
    "    import csv\n",
    "    from sklearn.feature_extraction.text import CountVectorizer\n",
    "    from sklearn.model_selection import train_test_split\n",
    "    from sklearn.naive_bayes import MultinomialNB\n",
    "    import csv\n",
    "    \n",
    "    # Reading the CSV file into 'data' variable.\n",
    "    try:\n",
    "        df_pred = pd.read_csv(file_name, index_col=None)\n",
    "    except:\n",
    "        listDir = os.listdir()\n",
    "        return(print('Process Fail, check if the file is listed below:'), print('\\n', listDir))\n",
    "    #return('File exported with success!')\n",
    "    # Global variables\n",
    "    global train_score, test_score, result\n",
    "\n",
    "    # instancing\n",
    "    count= CountVectorizer(decode_error='ignore')\n",
    "    nb = MultinomialNB()\n",
    "    # Inserting the df.data into X variable.\n",
    "    X = count.fit_transform(df_pred['data'])\n",
    "    # Inserting the df.label into variable 'Y' as a matrix.\n",
    "    Y = df_pred['label'].as_matrix()\n",
    "    # Split up the data\n",
    "    Xtrain, Xtest, Ytrain, Ytest = train_test_split(X, Y, test_size=0.10, shuffle = True)\n",
    "    # Training\n",
    "    nb.fit(Xtrain, Ytrain)\n",
    "    # Scoring\n",
    "    train_score = nb.score(Xtrain, Ytrain)\n",
    "    test_score = nb.score(Xtest, Ytest)\n",
    "    text_to_predict = [df_buffer.iloc[0,3]]\n",
    "    predict_vct = count.transform(text_to_predict)\n",
    "    result = nb.predict(predict_vct)\n",
    "    df_buffer.iloc[0,4] = result[0]\n",
    "    return(result[0])\n",
    "    # print('Predicted category: %d' % int(category[0])) "
   ]
  },
  {
   "cell_type": "code",
   "execution_count": 14,
   "metadata": {
    "scrolled": true
   },
   "outputs": [
    {
     "name": "stderr",
     "output_type": "stream",
     "text": [
      "/anaconda3/lib/python3.6/site-packages/ipykernel_launcher.py:28: FutureWarning: Method .as_matrix will be removed in a future version. Use .values instead.\n"
     ]
    },
    {
     "data": {
      "text/plain": [
       "0"
      ]
     },
     "execution_count": 14,
     "metadata": {},
     "output_type": "execute_result"
    }
   ],
   "source": [
    "MLPrediction2()"
   ]
  },
  {
   "cell_type": "code",
   "execution_count": 15,
   "metadata": {},
   "outputs": [
    {
     "data": {
      "text/html": [
       "<div>\n",
       "<style scoped>\n",
       "    .dataframe tbody tr th:only-of-type {\n",
       "        vertical-align: middle;\n",
       "    }\n",
       "\n",
       "    .dataframe tbody tr th {\n",
       "        vertical-align: top;\n",
       "    }\n",
       "\n",
       "    .dataframe thead th {\n",
       "        text-align: right;\n",
       "    }\n",
       "</style>\n",
       "<table border=\"1\" class=\"dataframe\">\n",
       "  <thead>\n",
       "    <tr style=\"text-align: right;\">\n",
       "      <th></th>\n",
       "      <th>TS</th>\n",
       "      <th>Sender</th>\n",
       "      <th>Subject</th>\n",
       "      <th>Summary</th>\n",
       "      <th>Label</th>\n",
       "    </tr>\n",
       "  </thead>\n",
       "  <tbody>\n",
       "    <tr>\n",
       "      <th>0</th>\n",
       "      <td>3 Nov 2018 02:37:11</td>\n",
       "      <td>log@monidra.com.br</td>\n",
       "      <td>Lex</td>\n",
       "      <td>plano de sa=C3=BAde =E2=80=93 revis=C3=A3o da...</td>\n",
       "      <td>0</td>\n",
       "    </tr>\n",
       "    <tr>\n",
       "      <th>1</th>\n",
       "      <td>NaN</td>\n",
       "      <td>NaN</td>\n",
       "      <td>NaN</td>\n",
       "      <td>NaN</td>\n",
       "      <td>NaN</td>\n",
       "    </tr>\n",
       "    <tr>\n",
       "      <th>2</th>\n",
       "      <td>NaN</td>\n",
       "      <td>NaN</td>\n",
       "      <td>NaN</td>\n",
       "      <td>NaN</td>\n",
       "      <td>NaN</td>\n",
       "    </tr>\n",
       "  </tbody>\n",
       "</table>\n",
       "</div>"
      ],
      "text/plain": [
       "                    TS              Sender Subject  \\\n",
       "0  3 Nov 2018 02:37:11  log@monidra.com.br     Lex   \n",
       "1                  NaN                 NaN     NaN   \n",
       "2                  NaN                 NaN     NaN   \n",
       "\n",
       "                                             Summary Label  \n",
       "0   plano de sa=C3=BAde =E2=80=93 revis=C3=A3o da...     0  \n",
       "1                                                NaN   NaN  \n",
       "2                                                NaN   NaN  "
      ]
     },
     "execution_count": 15,
     "metadata": {},
     "output_type": "execute_result"
    }
   ],
   "source": [
    "df_buffer"
   ]
  },
  {
   "cell_type": "code",
   "execution_count": 20,
   "metadata": {},
   "outputs": [],
   "source": [
    "def dfCleanup():\n",
    "    import time\n",
    "    df_buffer.loc[:,'TS'] = ''\n",
    "    df_buffer.loc[:,'Sender'] = ''\n",
    "    df_buffer.loc[:,'Subject'] = ''\n",
    "    df_buffer.loc[:,'Summary'] = ''\n",
    "    df_buffer.loc[:,'Label'] = ''\n",
    "    time.sleep(15)\n",
    "    return(df_buffer)"
   ]
  },
  {
   "cell_type": "code",
   "execution_count": 21,
   "metadata": {},
   "outputs": [],
   "source": [
    "def EmailSender():\n",
    "    if df_buffer.iloc[0,4] == 0:\n",
    "        message = 'Petição não provida'\n",
    "    elif df_buffer.iloc[0,4] == 1:\n",
    "        message = 'Petição provida parcialmente'\n",
    "    elif df_buffer.iloc[0,4] == 2:\n",
    "        message = 'Petição provida parcialmente' \n",
    "    else :\n",
    "        message = 'Consulta sem label'\n",
    "    \n",
    "    destination = df_buffer.iloc[0,1]\n",
    "    # importing necessary packages\n",
    "    from email.mime.multipart import MIMEMultipart\n",
    "    from email.mime.text import MIMEText\n",
    "    import smtplib\n",
    " \n",
    "    # create message object instance\n",
    "    msg = MIMEMultipart()\n",
    " \n",
    "    # setup the parameters of the message\n",
    "    msg['From'] = 'lex@monidra.com.br'\n",
    "    msg['To'] = destination\n",
    "    msg['Subject'] = \"Lex\"\n",
    "    \n",
    "    # add in the message body\n",
    "    msg.attach(MIMEText(message, 'plain'))\n",
    " \n",
    "    #create server\n",
    "    server = smtplib.SMTP('smtpout.secureserver.net')\n",
    " \n",
    "    # Login Credentials for sending the mail\n",
    "    server.login(msg['From'], '123456') \n",
    " \n",
    "    # send the message via the server.\n",
    "    server.sendmail(msg['From'], msg['To'], msg.as_string())\n",
    "    server.quit()\n",
    " \n",
    "    print (\"successfully sent email to %s:\" % (msg['To']))\n",
    "    dfCleanup()\n",
    "    \n",
    "    \n",
    "# Reference: https://code.tutsplus.com/tutorials/sending-emails-in-python-with-smtp--cms-29975"
   ]
  },
  {
   "cell_type": "code",
   "execution_count": 22,
   "metadata": {},
   "outputs": [
    {
     "name": "stdout",
     "output_type": "stream",
     "text": [
      "successfully sent email to log@monidra.com.br:\n"
     ]
    }
   ],
   "source": [
    "EmailSender()"
   ]
  },
  {
   "cell_type": "code",
   "execution_count": null,
   "metadata": {},
   "outputs": [],
   "source": []
  },
  {
   "cell_type": "code",
   "execution_count": null,
   "metadata": {},
   "outputs": [],
   "source": []
  }
 ],
 "metadata": {
  "kernelspec": {
   "display_name": "Python 3",
   "language": "python",
   "name": "python3"
  },
  "language_info": {
   "codemirror_mode": {
    "name": "ipython",
    "version": 3
   },
   "file_extension": ".py",
   "mimetype": "text/x-python",
   "name": "python",
   "nbconvert_exporter": "python",
   "pygments_lexer": "ipython3",
   "version": "3.6.6"
  }
 },
 "nbformat": 4,
 "nbformat_minor": 2
}
