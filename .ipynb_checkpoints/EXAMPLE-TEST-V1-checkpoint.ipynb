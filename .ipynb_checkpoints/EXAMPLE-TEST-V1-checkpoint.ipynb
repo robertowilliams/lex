{
 "cells": [
  {
   "cell_type": "code",
   "execution_count": 1,
   "metadata": {},
   "outputs": [],
   "source": [
    "import re\n",
    "import pandas as pd\n",
    "import os"
   ]
  },
  {
   "cell_type": "code",
   "execution_count": 2,
   "metadata": {},
   "outputs": [
    {
     "data": {
      "text/plain": [
       "['.DS_Store',\n",
       " '.ipynb_checkpoints',\n",
       " 'codes',\n",
       " 'DATASETS',\n",
       " 'electronics',\n",
       " 'EXAMPLE-TEST-V1.ipynb',\n",
       " 'EXAMPLE.ipynb',\n",
       " 'images',\n",
       " 'LEX_PROJECT-V3.ipynb',\n",
       " 'LEX_PROJECT_DASK_V1.ipynb',\n",
       " 'LEX_PROJECT_DATA_CLEANING_V1.ipynb',\n",
       " 'LEX_PROJECT_DATA_CLEANING_V2-Copy1.1.ipynb',\n",
       " 'LEX_PROJECT_DATA_CLEANING_V2.1.ipynb',\n",
       " 'LEX_PROJECT_DATA_CLEANING_V2.ipynb',\n",
       " 'LEX_PROJECT_SCRAPING_V1.ipynb',\n",
       " 'OLD',\n",
       " 'PackPub',\n",
       " 'spam.csv',\n",
       " 'stopwords.txt',\n",
       " 'Support_Notebooks',\n",
       " 'UDEMY']"
      ]
     },
     "execution_count": 2,
     "metadata": {},
     "output_type": "execute_result"
    }
   ],
   "source": [
    "os.listdir()"
   ]
  },
  {
   "cell_type": "code",
   "execution_count": 3,
   "metadata": {},
   "outputs": [
    {
     "data": {
      "text/plain": [
       "['.DS_Store',\n",
       " '1st_phase',\n",
       " '3rdPhase_test_v1.txt',\n",
       " '3rdPhase_test_v2.txt',\n",
       " 'import_io',\n",
       " 'sample.txt']"
      ]
     },
     "execution_count": 3,
     "metadata": {},
     "output_type": "execute_result"
    }
   ],
   "source": [
    "os.chdir('DATASETS')\n",
    "os.listdir()"
   ]
  },
  {
   "cell_type": "code",
   "execution_count": 4,
   "metadata": {},
   "outputs": [],
   "source": [
    "rx_dict = {\n",
    "    'school': re.compile(r'School = (?P<school>.*)\\n'),\n",
    "    'grade': re.compile(r'Grade = (?P<grade>\\d+)\\n'),\n",
    "    'name_score': re.compile(r'(?P<name_score>Name|Score)'),\n",
    "}"
   ]
  },
  {
   "cell_type": "code",
   "execution_count": 5,
   "metadata": {},
   "outputs": [],
   "source": [
    "def _parse_line(line):\n",
    "    for key, rx in rx_dict.items():\n",
    "        match = rx.search(line)\n",
    "        if match:\n",
    "            return key, match\n",
    "    # if there are no matches\n",
    "    return None, None"
   ]
  },
  {
   "cell_type": "code",
   "execution_count": 6,
   "metadata": {},
   "outputs": [
    {
     "ename": "IndentationError",
     "evalue": "unexpected indent (<ipython-input-6-45a1b89fe318>, line 35)",
     "output_type": "error",
     "traceback": [
      "\u001b[0;36m  File \u001b[0;32m\"<ipython-input-6-45a1b89fe318>\"\u001b[0;36m, line \u001b[0;32m35\u001b[0m\n\u001b[0;31m    data.append(row)\u001b[0m\n\u001b[0m    ^\u001b[0m\n\u001b[0;31mIndentationError\u001b[0m\u001b[0;31m:\u001b[0m unexpected indent\n"
     ]
    }
   ],
   "source": [
    "def parse(filepath):\n",
    "\n",
    "\n",
    "    data = []  # create an empty list to collect the data\n",
    "    # open the file and read through it line by line\n",
    "    with open(filepath, 'r') as file_object:\n",
    "        line = file_object.readline()\n",
    "        while line:\n",
    "            # at each line check for a match with a regex\n",
    "            key, match = _parse_line(line)\n",
    "\n",
    "            # extract school name\n",
    "            if key == 'school':\n",
    "                school = match.group('school')\n",
    "\n",
    "            # extract grade\n",
    "            if key == 'grade':\n",
    "                grade = match.group('grade')\n",
    "                grade = int(grade)\n",
    "\n",
    "            # identify a table header \n",
    "            if key == 'name_score':\n",
    "                # extract type of table, i.e., Name or Score\n",
    "                value_type = match.group('name_score')\n",
    "                line = file_object.readline()\n",
    "                # read each line of the table until a blank line\n",
    "                while line.strip():\n",
    "                    # extract number and value\n",
    "                    number, value = line.strip().split(',')\n",
    "                    value = value.strip()\n",
    "                    # create a dictionary containing this row of data\n",
    "                    row = {\n",
    "                        'School': school,\n",
    "                        'Grade': grade,\n",
    "                        'Student number': number,\n",
    "                        value_type: value\n",
    "                    }\n",
    "                    # append the dictionary to the data list\n",
    "                    data.append(row)\n",
    "                    line = file_object.readline()\n",
    "\n",
    "            line = file_object.readline()\n",
    "\n",
    "        # create a pandas DataFrame from the list of dicts\n",
    "        data = pd.DataFrame(data)\n",
    "        # set the School, Grade, and Student number as the index\n",
    "        data.set_index(['School', 'Grade', 'Student number'], inplace=True)\n",
    "        # consolidate df to remove nans\n",
    "        data = data.groupby(level=data.index.names).first()\n",
    "        # upgrade Score from float to integer\n",
    "        data = data.apply(pd.to_numeric, errors='ignore')\n",
    "    return data"
   ]
  },
  {
   "cell_type": "code",
   "execution_count": null,
   "metadata": {},
   "outputs": [],
   "source": [
    "if __name__ == '__main__':\n",
    "    filepath = 'sample.txt'\n",
    "    data = parse(filepath)\n",
    "    print(data)"
   ]
  },
  {
   "cell_type": "code",
   "execution_count": null,
   "metadata": {},
   "outputs": [],
   "source": []
  },
  {
   "cell_type": "code",
   "execution_count": null,
   "metadata": {},
   "outputs": [],
   "source": []
  }
 ],
 "metadata": {
  "kernelspec": {
   "display_name": "Python 3",
   "language": "python",
   "name": "python3"
  },
  "language_info": {
   "codemirror_mode": {
    "name": "ipython",
    "version": 3
   },
   "file_extension": ".py",
   "mimetype": "text/x-python",
   "name": "python",
   "nbconvert_exporter": "python",
   "pygments_lexer": "ipython3",
   "version": "3.6.6"
  }
 },
 "nbformat": 4,
 "nbformat_minor": 2
}
