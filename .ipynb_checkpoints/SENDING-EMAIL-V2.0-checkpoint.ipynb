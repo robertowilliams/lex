{
 "cells": [
  {
   "cell_type": "markdown",
   "metadata": {},
   "source": [
    "# **SENDING E-MAIL**\n",
    "## VERSION: 2.0"
   ]
  },
  {
   "cell_type": "markdown",
   "metadata": {},
   "source": [
    "# 1. EMAIL SENDER\n"
   ]
  },
  {
   "cell_type": "code",
   "execution_count": 3,
   "metadata": {},
   "outputs": [],
   "source": [
    "def EmailSender(message, destination):\n",
    "\n",
    "    # importing necessary packages\n",
    "    from email.mime.multipart import MIMEMultipart\n",
    "    from email.mime.text import MIMEText\n",
    "    import smtplib\n",
    " \n",
    "    # create message object instance\n",
    "    msg = MIMEMultipart()\n",
    " \n",
    "    # setup the parameters of the message\n",
    "    msg['From'] = 'lex@monidra.com.br'\n",
    "    msg['To'] = destination\n",
    "    msg['Subject'] = \"Lex\"\n",
    " \n",
    "    # add in the message body\n",
    "    msg.attach(MIMEText(message, 'plain'))\n",
    " \n",
    "    #create server\n",
    "    server = smtplib.SMTP('smtpout.secureserver.net')\n",
    " \n",
    "    # Login Credentials for sending the mail\n",
    "    server.login(msg['From'], '123456') \n",
    " \n",
    "    # send the message via the server.\n",
    "    server.sendmail(msg['From'], msg['To'], msg.as_string())\n",
    "    server.quit()\n",
    " \n",
    "    print (\"successfully sent email to %s:\" % (msg['To']))\n",
    "    \n",
    "# Reference: https://code.tutsplus.com/tutorials/sending-emails-in-python-with-smtp--cms-29975"
   ]
  },
  {
   "cell_type": "code",
   "execution_count": 4,
   "metadata": {},
   "outputs": [
    {
     "name": "stdout",
     "output_type": "stream",
     "text": [
      "successfully sent email to log@monidra.com.br:\n"
     ]
    }
   ],
   "source": [
    "EmailSender(message='(LEX) agravo interno', destination= 'log@monidra.com.br')"
   ]
  }
 ],
 "metadata": {
  "kernelspec": {
   "display_name": "Python 3",
   "language": "python",
   "name": "python3"
  },
  "language_info": {
   "codemirror_mode": {
    "name": "ipython",
    "version": 3
   },
   "file_extension": ".py",
   "mimetype": "text/x-python",
   "name": "python",
   "nbconvert_exporter": "python",
   "pygments_lexer": "ipython3",
   "version": "3.6.6"
  }
 },
 "nbformat": 4,
 "nbformat_minor": 2
}
